{
 "cells": [
  {
   "cell_type": "markdown",
   "metadata": {},
   "source": [
    "* ### Introduction\n",
    "* ### Data Import\n",
    "* ### Data Transformation and Exploration\n",
    "    * Check Data\n",
    "    * One in 10 Rule\n",
    "    * Non-machine Learning Classifiers\n",
    "    * Data Exploration\n",
    "      * Generl Overview\n",
    "      * Repayment Status (PAY_X)\n",
    "      * Social Status Predictors (SEX, EDUCATION, MARRIAGE)\n",
    "      * Age (AGE)\n",
    "      * Amount of Bill Statement (BILL_AMTX)\n",
    "      * Amount of Previous Payment (PAY_AMTX)\n",
    "      * Limit of Balance (LIMIT_BAL)\n",
    "    * Data Transformation\n",
    "      * Social Status and Dummy Variables\n",
    "      * Logging Monetary Features\n",
    "    * Predictors' Correlation\n",
    "    * Сorrelation between Preditors and Dependent Variable\n",
    "    * Summary\n",
    "    * Outliers \n",
    "       * Logged data\n",
    "       * Isolation Forest\n",
    "* ### Methodology Overview\n",
    "     * Data Prepation\n",
    "* ### Dimensionality Reduction\n",
    "    * Principle Component Analysis(PCA)\n",
    "    * Locally Linear Embedding (LLE)\n",
    "* ### Predictive Models\n",
    "    * Normal Logistic Regression \n",
    "    * Normal Logistic Regression with PCA\n",
    "    * Normal Logistic Regression with LLE\n",
    "    * Logistic Regression with Grid Search (Hyperparameter Tuning)\n",
    "    * Naive Bayes\n",
    "    * K-Neighbours\n",
    "    * Random Forest\n",
    "    * Random Forest with GINI criterion and boosted parameters\n",
    "    * Gradient Tree Boosting\n",
    "    * Kernel SVM\n",
    "* ### Results\n",
    "    * Logistic Regression with Grid Search (Hyperparameter Tuning)\n",
    "    * Naive Bayes\n",
    "    * K-Neighbours\n",
    "    * Random Forest with GINI criterion and boosted parameters\n",
    "    * Gradient Tree Boosting\n",
    "    * Kernel SVM\n",
    "* ### Final predictions on test set\n",
    "* ### Reference\n"
   ]
  },
  {
   "cell_type": "markdown",
   "metadata": {},
   "source": [
    "## Setup"
   ]
  },
  {
   "cell_type": "code",
   "execution_count": 1,
   "metadata": {},
   "outputs": [
    {
     "ename": "ModuleNotFoundError",
     "evalue": "No module named 'statsmodels'",
     "output_type": "error",
     "traceback": [
      "\u001b[0;31m--------------------------------------------------------------------\u001b[0m",
      "\u001b[0;31mModuleNotFoundError\u001b[0m                Traceback (most recent call last)",
      "\u001b[0;32m<ipython-input-1-426142ea59ff>\u001b[0m in \u001b[0;36m<module>\u001b[0;34m\u001b[0m\n\u001b[1;32m     11\u001b[0m \u001b[0;34m\u001b[0m\u001b[0m\n\u001b[1;32m     12\u001b[0m \u001b[0;32mfrom\u001b[0m \u001b[0mos\u001b[0m \u001b[0;32mimport\u001b[0m \u001b[0mchdir\u001b[0m\u001b[0;34m\u001b[0m\u001b[0m\n\u001b[0;32m---> 13\u001b[0;31m \u001b[0;32mfrom\u001b[0m \u001b[0mstatsmodels\u001b[0m\u001b[0;34m.\u001b[0m\u001b[0mgraphics\u001b[0m\u001b[0;34m.\u001b[0m\u001b[0mmosaicplot\u001b[0m \u001b[0;32mimport\u001b[0m \u001b[0mmosaic\u001b[0m\u001b[0;34m\u001b[0m\u001b[0m\n\u001b[0m\u001b[1;32m     14\u001b[0m \u001b[0;32mfrom\u001b[0m \u001b[0msklearn\u001b[0m\u001b[0;34m.\u001b[0m\u001b[0mmodel_selection\u001b[0m \u001b[0;32mimport\u001b[0m \u001b[0mtrain_test_split\u001b[0m\u001b[0;34m,\u001b[0m \u001b[0mcross_val_score\u001b[0m\u001b[0;34m,\u001b[0m \u001b[0mGridSearchCV\u001b[0m\u001b[0;34m\u001b[0m\u001b[0m\n\u001b[1;32m     15\u001b[0m \u001b[0;32mfrom\u001b[0m \u001b[0msklearn\u001b[0m\u001b[0;34m.\u001b[0m\u001b[0mpreprocessing\u001b[0m \u001b[0;32mimport\u001b[0m \u001b[0mStandardScaler\u001b[0m\u001b[0;34m\u001b[0m\u001b[0m\n",
      "\u001b[0;31mModuleNotFoundError\u001b[0m: No module named 'statsmodels'"
     ]
    }
   ],
   "source": [
    "import numpy as np\n",
    "import matplotlib.pyplot as plt\n",
    "import pandas as pd\n",
    "import seaborn as sns\n",
    "import scipy.stats as stats\n",
    "import os\n",
    "import warnings\n",
    "\n",
    "warnings.simplefilter(action='ignore', category=FutureWarning)\n",
    "%matplotlib inline \n",
    "\n",
    "from os import chdir\n",
    "from statsmodels.graphics.mosaicplot import mosaic\n",
    "from sklearn.model_selection import train_test_split, cross_val_score, GridSearchCV\n",
    "from sklearn.preprocessing import StandardScaler\n",
    "from sklearn.ensemble import IsolationForest\n",
    "from sklearn.preprocessing import OneHotEncoder\n",
    "from sklearn.linear_model import LogisticRegression, SGDClassifier\n",
    "from sklearn.neighbors import KNeighborsClassifier\n",
    "from sklearn.metrics import roc_curve, auc, classification_report, confusion_matrix, accuracy_score, roc_auc_score\n",
    "from sklearn.feature_selection import RFECV\n",
    "from sklearn.manifold import LocallyLinearEmbedding\n",
    "from sklearn.naive_bayes import GaussianNB\n",
    "from sklearn.ensemble import RandomForestClassifier\n",
    "from sklearn.svm import SVC\n",
    "from sklearn.ensemble import GradientBoostingClassifier"
   ]
  },
  {
   "cell_type": "markdown",
   "metadata": {},
   "source": [
    "## Introduction"
   ]
  },
  {
   "cell_type": "markdown",
   "metadata": {},
   "source": [
    "Since this is quite a well-known dataset and problem, we first read through papers which aimed to explore the data set and create models which most accurately predicted credit card default. Having a look at [1] we see that they take an approach of using multiple different techniques including Logistic Regression, Naïve Bates and K-nearest neighbours, we took these approaches into consideration and applied these models along with many others to our transformed data. One thing which was not as well documented were approaches to pre-processing this data-set, we there set out to explore the data ourselves and had a look at how different features in the dataset influenced our target output and each other.  We found that some features played a bigger role than others in predicting credit card default. "
   ]
  },
  {
   "cell_type": "markdown",
   "metadata": {},
   "source": [
    "## Data Import"
   ]
  },
  {
   "cell_type": "code",
   "execution_count": null,
   "metadata": {},
   "outputs": [],
   "source": [
    "# change the path to where you have downloaded the data set\n",
    "path = os.getcwd()\n",
    "chdir(path)\n",
    "# set the path to our current working directory\n",
    "data = pd.read_csv('CreditCard_train.csv', header =1)\n",
    "isolation=data\n",
    "outlierData=data\n",
    "trainData = pd.read_csv('CreditCard_train.csv', header =1)\n",
    "testData = pd.read_csv('CreditCard_test.csv', header =1)"
   ]
  },
  {
   "cell_type": "markdown",
   "metadata": {},
   "source": [
    "## Data Transformation and Exploration"
   ]
  },
  {
   "cell_type": "markdown",
   "metadata": {},
   "source": [
    "This section is split into two parts, where we first explore the data and then go onto manipulating the data according to the patters and inconsistencies we have noticed."
   ]
  },
  {
   "cell_type": "code",
   "execution_count": null,
   "metadata": {},
   "outputs": [],
   "source": [
    "# checking we have the correct data columns and glancing over the data\n",
    "data.describe()"
   ]
  },
  {
   "cell_type": "markdown",
   "metadata": {},
   "source": [
    "#### Generally looking at the dataset,from the 24000 sets of data:\n",
    "* The mean of the the amount of given credit is around 165500, the standard deviation is extremly large this could possibly due to the max value being 1000000\n",
    "* The average age is about 36. \n",
    "* The male-female ratio is about even (as the mean is 1.6)\n",
    "* The majority of people graduate from either university or graduate school\n",
    "* The mean of the \"default payment next month\" is 0.22, as 0 represents 'non-default' and 1 represents 'default' therefore possibly indicating most of the cases would not default next month\n"
   ]
  },
  {
   "cell_type": "code",
   "execution_count": null,
   "metadata": {},
   "outputs": [],
   "source": [
    "# Create a list of the features and split them into categories so we can manipulate them\n",
    "cols = [ f for f in data.columns if data.dtypes[ f ] != \"object\" and f!= 'ID']\n",
    "del cols[-1:]\n",
    "cols2 = cols\n",
    "basicData = cols[1:11]\n",
    "moneyData = [x for x in cols if x not in basicData]"
   ]
  },
  {
   "cell_type": "markdown",
   "metadata": {},
   "source": [
    "We see that the values regarding amounts of money are heavily skewed to the left-hand side. We can try and eliminate this by transforming these features later. We will also have to keep this in mind when creating and evaluating our classifiers."
   ]
  },
  {
   "cell_type": "code",
   "execution_count": null,
   "metadata": {},
   "outputs": [],
   "source": [
    "sns.set(style=\"darkgrid\")\n",
    "plt.figure(figsize = (5,5))\n",
    "plt.title('Default Credit Card Clients \\n (Not Default = 0, Default = 1)')\n",
    "ax = sns.countplot(x=\"default payment next month\", data=data)\n",
    "\n",
    "data['default payment next month'].astype(bool).sum(axis=0) \n",
    "\n",
    "total = float(len(data)) # one person per row \n",
    "\n",
    "for p in ax.patches:\n",
    "    height = p.get_height()\n",
    "    ax.text(p.get_x()+p.get_width()/2.,\n",
    "            height + 3,\n",
    "            '{:1.2f}'.format(height/total),\n",
    "            ha=\"center\") "
   ]
  },
  {
   "cell_type": "markdown",
   "metadata": {},
   "source": [
    "### The one in ten rule\n",
    "\n",
    "The one in ten rule is a rule of thumb for how many predictors can be derived from data when doing regression analysis without risk of overfitting. The rule states that one predictive variable can be studied for every ten events--minimum 10 events per varible. A \"one in 20 rule\" has been introduced, and sometimes considered better than \"one in 10 rule\" indicating more candidate events for each variable. In our case, firstly we need to get the output variable with the lower value: 5370\n",
    "Then divide it by the number of variables: 5370/23=233. We definitely have enough number of candidates as the figure is more than 20. However, it might also indicates the high possibility for overfitting. We would do more exploration of th data to check that.\n",
    "\n",
    "### Non-machine learning classifiers\n",
    "There exist some very simple non-machine learning classifiers, for example:\n",
    "\n",
    "* Random Guess Classifier : In our cases, randomly select 0 and 1 as the output\n",
    "\n",
    "* Weighted Guess Classifier : randomly assign a % of the data to output 0 and the other 1-a% to 1\n",
    "\n",
    "* Majority Class Classifier : assign all of the output to the majority  class in the data\n",
    "\n",
    "These methods are so simple to implement and espically for the cases of logistis regression with only two output labels, the performance would be fairly well. Therefore a machine learning classifier should be smarter and gives better accuracy results than these algorithms.\n",
    "\n",
    "It looks like that the majority class classifier would perform best on this set of data: 18630/24000=77.6%, so we should use a classifier giving higher accuracy than this"
   ]
  },
  {
   "cell_type": "markdown",
   "metadata": {},
   "source": [
    "### Data Exploration\n",
    "We plot each features distribution plot and look at how the distribution differs for defaulters and non-defaulters. We will also in this section look at different categories of features in more detail to closely examine their relations and determine if there are any inconsistencies with the data."
   ]
  },
  {
   "cell_type": "markdown",
   "metadata": {},
   "source": [
    "#### General overview"
   ]
  },
  {
   "cell_type": "code",
   "execution_count": null,
   "metadata": {},
   "outputs": [],
   "source": [
    "#plotting the distribution plots\n",
    "f = pd.melt(data, id_vars='default payment next month', value_vars= cols)\n",
    "g = sns.FacetGrid( f, hue='default payment next month', col=\"variable\", col_wrap=5, sharex=False, sharey=False)\n",
    "g = g.map( sns.distplot, \"value\", kde=True).add_legend()"
   ]
  },
  {
   "cell_type": "markdown",
   "metadata": {},
   "source": [
    "\n",
    "From glancing at these plots, we can notice that the customers who default have a lower LIMIT_BAL than those who do not default, this makes sense if we think about the context. Other interesting things we notice is that those in lower levels of education tend to default more, however those who have a university level education tend to default the most out of other levels of education. IF we look at the plots for the payment status’, we see that those who do not default have a much higher proportion of zero or negative values for this feature."
   ]
  },
  {
   "cell_type": "code",
   "execution_count": null,
   "metadata": {},
   "outputs": [],
   "source": [
    "#we plot a correlation matrix for the features and target\n",
    "corr = data.corr()\n",
    "plt.subplots(figsize=(25,10))\n",
    "from seaborn import heatmap\n",
    "ax = heatmap(corr, annot=True)\n",
    "plt.show()"
   ]
  },
  {
   "cell_type": "markdown",
   "metadata": {},
   "source": [
    "From this we can see that our observation made from looking at the distribution plots were correct as we see how correlated the payment status's and education level are to the output. We are also able to see inner correlation between features and see that the repayment status over the 6 months are all highly correlated telling us that a customer is likely to remain consistent with the timeliness of their repayments"
   ]
  },
  {
   "cell_type": "markdown",
   "metadata": {},
   "source": [
    "#### Repayment Status"
   ]
  },
  {
   "cell_type": "code",
   "execution_count": null,
   "metadata": {},
   "outputs": [],
   "source": [
    "sns.set(style=\"darkgrid\")\n",
    "plt.figure(figsize = (20,15))\n",
    "i = 0\n",
    "for c in cols[5:11]:\n",
    "    i= i+1\n",
    "    plt.subplot(3,2,i)\n",
    "    ax = sns.countplot(x=c, data=data, hue = \"default payment next month\")\n",
    "    plt.tight_layout() \n",
    "    for p in ax.patches:\n",
    "        if float(p.get_height()) > 0:\n",
    "            height = p.get_height()\n",
    "            ax.text(p.get_x()+p.get_width()/2.,\n",
    "            p.get_height() + 2,\n",
    "            '{:1.2f}'.format(p.get_height()/24000),\n",
    "            ha=\"center\")"
   ]
  },
  {
   "cell_type": "code",
   "execution_count": null,
   "metadata": {},
   "outputs": [],
   "source": [
    "for c in cols[5:11]:\n",
    "    hell = data[c].tolist()\n",
    "    print('Number of 0s and -2s in '+ str(c)+':', hell.count(0)+hell.count(-2))\n",
    "    print('Number of -2s:', hell.count(-2))"
   ]
  },
  {
   "cell_type": "markdown",
   "metadata": {},
   "source": [
    "From the count plots, we observe that there are two unknown variables for repayment status: -2 and 0. Technically we should consider these variables as \"NA\" (Not Applicable) as they are undefined in the dataset and proceed to remove them or replace them with the median value. However, we can see that this would result in removing at least 17059 of our 24000 datapoint, not very ideal. Replacing them with the median would also not work as the median and the most prevalent value is 0. The distribution of these values do not seem random so they could potentially aid us in estimating the target output. We notice that the values of Payment status should range from [-1-9] excluding 0. We notice there are no recorded values for 9 for any of our 24,000 data points we therefore could shift the data and replace 0 with 1 , 2 with 3 and so forth till we replace 8 with 9 however this would lead us to also lose all values labelled as -2 which accumulates to around 15% of our data, we don’t think a shift in the data would benefit us more than holding onto this data so we decide to leave the data as it is.\n"
   ]
  },
  {
   "cell_type": "markdown",
   "metadata": {},
   "source": [
    "#### Social Status (SEX, EDUCATION, MARRIAGE)"
   ]
  },
  {
   "cell_type": "code",
   "execution_count": null,
   "metadata": {},
   "outputs": [],
   "source": [
    "sns.set(style=\"darkgrid\")\n",
    "plt.figure(figsize = (20,5))\n",
    "i = 0\n",
    "heights = []\n",
    "for c in cols[1:4]:\n",
    "    i= i+1\n",
    "    plt.subplot(1,3,i)\n",
    "    ax = sns.countplot(x=c, data=data, hue = \"default payment next month\")\n",
    "    plt.tight_layout() \n",
    "    for p in ax.patches:\n",
    "        if float(p.get_height()) > 0:\n",
    "            height = p.get_height()\n",
    "            heights.append(height)\n",
    "            ax.text(p.get_x()+p.get_width()/2.,\n",
    "            p.get_height() + 2,\n",
    "            '{:1.2f}'.format(p.get_height()/24000),\n",
    "            ha=\"center\")\n",
    "#Age\n",
    "print('Proportion of Male defaulters:', '{:1.2f}'.format(heights[2]/heights[0]))\n",
    "print('Proportion of Female defaulters:', '{:1.2f}'.format(heights[3]/heights[1]))\n",
    "\n",
    "#Education\n",
    "eduData = data['EDUCATION'].tolist()\n",
    "print('Number of unexpected education data: ', eduData.count(5)+eduData.count(6)+eduData.count(0))\n",
    "\n",
    "#Marriage Status\n",
    "relData = data['MARRIAGE'].tolist()\n",
    "print('Number of unexpected relationship data: ', relData.count(0)+relData.count(3))\n"
   ]
  },
  {
   "cell_type": "markdown",
   "metadata": {},
   "source": [
    "From these count plots we can see that there a lot more females in our dataset then males. We can also see that men are more likely to default compared to women. Looking at the plot for the education we see that there are inconsistences since only the values 1,2,3 and 4 are defined. The values 0,5 and 6 could be due to errors, since there is a small amount of them we could get rid of these values by replacing the values with the value 4, thus categorising their education as others. We also realised that the ineffective way of representing the education, by assigning number values to different levels of education we are introducing a different level of meaning that is beyond education. For example, 3 is 3 times greater than 1, since 3 is representing grad school and 1 is representing high school does this translate to grad being worth 3 times more than high school? to remove this ambiguity we will introduce dummy variables later. For the Marriage we see that there are also some irregularities with the value 3 and that single customers have a smaller chance of defaulting."
   ]
  },
  {
   "cell_type": "code",
   "execution_count": null,
   "metadata": {},
   "outputs": [],
   "source": [
    "#check the inter-quartile range of the data \n",
    "print(data.AGE.quantile([0.25,0.5,0.75]))"
   ]
  },
  {
   "cell_type": "markdown",
   "metadata": {},
   "source": [
    "One definition of outlier is any data point more than 1.5 inter-quartile range(IQR) below Q1 or above Q3. The IQR is 13, therefore outliers are points lying above 60.5 and below 8.5\n"
   ]
  },
  {
   "cell_type": "code",
   "execution_count": null,
   "metadata": {},
   "outputs": [],
   "source": [
    "#Age \n",
    "plt.figure(figsize=(13,5))\n",
    "col = data.columns[5]\n",
    "sns.set(style=\"darkgrid\")\n",
    "ax=sns.countplot(x=str(col), data=data)\n",
    "plt.axvline(x=39)\n",
    "plt.show()"
   ]
  },
  {
   "cell_type": "code",
   "execution_count": null,
   "metadata": {},
   "outputs": [],
   "source": [
    "#Age Scatter\n",
    "fig, ax = plt.subplots()\n",
    "data.plot.scatter(x='ID', y='AGE',c='AGE', cmap='viridis',ax=ax)\n",
    "plt.show()"
   ]
  },
  {
   "cell_type": "markdown",
   "metadata": {},
   "source": [
    "From the scatter plot, the strange thing is that with index more than 15000, the structure of the data seems like to have some kind of periodic patterns. To make sure that data with index more than 15000 is valid, we have drawed another histogram to analyse the strcture of the data."
   ]
  },
  {
   "cell_type": "code",
   "execution_count": null,
   "metadata": {},
   "outputs": [],
   "source": [
    "#figs, axs = plt.subplots(1, 2, figsize=(12, 3))\n",
    "plt.figure(figsize=(12,3))\n",
    "plt.subplot(1,2,1)\n",
    "ax =sns.boxplot(x=data[col][:15000],color=\"#9b59b6\").set_title(\"Before 15000 \")\n",
    "plt.subplot(1,2,2)\n",
    "ax = sns.boxplot(x=data[col][15000:]).set_title(\"After 15000 \")\n",
    "\n",
    "plt.show()"
   ]
  },
  {
   "cell_type": "markdown",
   "metadata": {},
   "source": [
    " Both parts of the data hava the same structure and density, therefore the second part of the data is valid "
   ]
  },
  {
   "cell_type": "code",
   "execution_count": null,
   "metadata": {},
   "outputs": [],
   "source": [
    "#Amount of bill statement:\n",
    "for c in range(1,7):\n",
    "    string=\"BILL_AMT\"+str(c)\n",
    "    print(data[string].quantile([0.25,0.5,0.75]))"
   ]
  },
  {
   "cell_type": "markdown",
   "metadata": {},
   "source": [
    "Again by making use of the definition of outlier:\n",
    " >Q3+1.5∗IQR or <Q1−1.5∗IQR\n"
   ]
  },
  {
   "cell_type": "markdown",
   "metadata": {},
   "source": [
    "In the graphs belows, we add two imaginary lines indicting the lower bound and upeer bound for outliers"
   ]
  },
  {
   "cell_type": "code",
   "execution_count": 2,
   "metadata": {},
   "outputs": [
    {
     "ename": "NameError",
     "evalue": "name 'data' is not defined",
     "output_type": "error",
     "traceback": [
      "\u001b[0;31m--------------------------------------------------------------------\u001b[0m",
      "\u001b[0;31mNameError\u001b[0m                          Traceback (most recent call last)",
      "\u001b[0;32m<ipython-input-2-94a237ceccc3>\u001b[0m in \u001b[0;36m<module>\u001b[0;34m\u001b[0m\n\u001b[1;32m      2\u001b[0m \u001b[0maxs\u001b[0m \u001b[0;34m=\u001b[0m \u001b[0maxs\u001b[0m\u001b[0;34m.\u001b[0m\u001b[0mravel\u001b[0m\u001b[0;34m(\u001b[0m\u001b[0;34m)\u001b[0m\u001b[0;34m\u001b[0m\u001b[0m\n\u001b[1;32m      3\u001b[0m \u001b[0;32mfor\u001b[0m \u001b[0mcounter\u001b[0m \u001b[0;32min\u001b[0m \u001b[0mrange\u001b[0m\u001b[0;34m(\u001b[0m\u001b[0;36m6\u001b[0m\u001b[0;34m)\u001b[0m\u001b[0;34m:\u001b[0m\u001b[0;34m\u001b[0m\u001b[0m\n\u001b[0;32m----> 4\u001b[0;31m     \u001b[0mcol\u001b[0m \u001b[0;34m=\u001b[0m \u001b[0mdata\u001b[0m\u001b[0;34m.\u001b[0m\u001b[0mcolumns\u001b[0m\u001b[0;34m[\u001b[0m\u001b[0;36m12\u001b[0m \u001b[0;34m+\u001b[0m \u001b[0mcounter\u001b[0m\u001b[0;34m]\u001b[0m\u001b[0;34m\u001b[0m\u001b[0m\n\u001b[0m\u001b[1;32m      5\u001b[0m     \u001b[0ml\u001b[0m\u001b[0;34m,\u001b[0m\u001b[0mh\u001b[0m\u001b[0;34m=\u001b[0m\u001b[0mdata\u001b[0m\u001b[0;34m[\u001b[0m\u001b[0mcol\u001b[0m\u001b[0;34m]\u001b[0m\u001b[0;34m.\u001b[0m\u001b[0mquantile\u001b[0m\u001b[0;34m(\u001b[0m\u001b[0;34m[\u001b[0m\u001b[0;36m0.25\u001b[0m\u001b[0;34m,\u001b[0m\u001b[0;36m0.75\u001b[0m\u001b[0;34m]\u001b[0m\u001b[0;34m)\u001b[0m\u001b[0;34m\u001b[0m\u001b[0m\n\u001b[1;32m      6\u001b[0m     \u001b[0mrang\u001b[0m\u001b[0;34m=\u001b[0m\u001b[0;36m1.5\u001b[0m\u001b[0;34m*\u001b[0m\u001b[0;34m(\u001b[0m\u001b[0mh\u001b[0m\u001b[0;34m-\u001b[0m\u001b[0ml\u001b[0m\u001b[0;34m)\u001b[0m\u001b[0;34m\u001b[0m\u001b[0m\n",
      "\u001b[0;31mNameError\u001b[0m: name 'data' is not defined"
     ]
    },
    {
     "data": {
      "image/png": "[encoded data removed]",
      "text/plain": [
       "<matplotlib.figure.Figure at 0x1104160f0>"
      ]
     },
     "metadata": {
      "needs_background": "light"
     },
     "output_type": "display_data"
    }
   ],
   "source": [
    "figs, axs = plt.subplots(3, 2, figsize=(15, 10))\n",
    "axs = axs.ravel()\n",
    "for counter in range(6):\n",
    "    col = data.columns[12 + counter]\n",
    "    l,h=data[col].quantile([0.25,0.75])\n",
    "    rang=1.5*(h-l)\n",
    "    low=l-rang\n",
    "    high=h+rang\n",
    "    distinct=len(data[col].unique())\n",
    "    axs[counter].hist(data[col], bins=100,color='black',alpha=0.7,rwidth=1.5)\n",
    "    axs[counter].axvline(x=low, color='r', linestyle='dashed', linewidth=2)\n",
    "    axs[counter].axvline(x=high, color='r', linestyle='dashed', linewidth=2)\n",
    "    axs[counter].grid(axis='y',alpha=0.75)\n",
    "    axs[counter].set_title(\" \"+col)\n",
    "plt.show()"
   ]
  },
  {
   "cell_type": "code",
   "execution_count": null,
   "metadata": {},
   "outputs": [],
   "source": [
    "figs, axs = plt.subplots(3, 2, figsize=(15, 10))\n",
    "axs = axs.ravel()\n",
    "for counter in range(6):\n",
    "    col = data.columns[12+counter]\n",
    "    sns.boxplot(x=data[col],ax=axs[counter])\n",
    "plt.show()\n"
   ]
  },
  {
   "cell_type": "markdown",
   "metadata": {},
   "source": [
    "It looks like our current definition of outlier has a very limited range. The first solution is to give a higher bound for outliers, for example we could define Q3*1.5 IQR +300000 as the higher bound for outliers. Secondly we could also do some data tranformtion to this data. I would suggest try taking the log of the data because of negative values or set the upper bound to Q3*1.5 IQR +300000. "
   ]
  },
  {
   "cell_type": "code",
   "execution_count": 3,
   "metadata": {},
   "outputs": [
    {
     "ename": "NameError",
     "evalue": "name 'data' is not defined",
     "output_type": "error",
     "traceback": [
      "\u001b[0;31m--------------------------------------------------------------------\u001b[0m",
      "\u001b[0;31mNameError\u001b[0m                          Traceback (most recent call last)",
      "\u001b[0;32m<ipython-input-3-c5d4f4b7c4df>\u001b[0m in \u001b[0;36m<module>\u001b[0;34m\u001b[0m\n\u001b[1;32m      2\u001b[0m \u001b[0;32mfor\u001b[0m \u001b[0mc\u001b[0m \u001b[0;32min\u001b[0m \u001b[0mrange\u001b[0m\u001b[0;34m(\u001b[0m\u001b[0;36m1\u001b[0m\u001b[0;34m,\u001b[0m\u001b[0;36m7\u001b[0m\u001b[0;34m)\u001b[0m\u001b[0;34m:\u001b[0m\u001b[0;34m\u001b[0m\u001b[0m\n\u001b[1;32m      3\u001b[0m     \u001b[0mstring\u001b[0m\u001b[0;34m=\u001b[0m\u001b[0;34m\"PAY_AMT\"\u001b[0m\u001b[0;34m+\u001b[0m\u001b[0mstr\u001b[0m\u001b[0;34m(\u001b[0m\u001b[0mc\u001b[0m\u001b[0;34m)\u001b[0m\u001b[0;34m\u001b[0m\u001b[0m\n\u001b[0;32m----> 4\u001b[0;31m     \u001b[0mprint\u001b[0m\u001b[0;34m(\u001b[0m\u001b[0mdata\u001b[0m\u001b[0;34m[\u001b[0m\u001b[0mstring\u001b[0m\u001b[0;34m]\u001b[0m\u001b[0;34m.\u001b[0m\u001b[0mquantile\u001b[0m\u001b[0;34m(\u001b[0m\u001b[0;34m[\u001b[0m\u001b[0;36m0.25\u001b[0m\u001b[0;34m,\u001b[0m\u001b[0;36m0.5\u001b[0m\u001b[0;34m,\u001b[0m\u001b[0;36m0.75\u001b[0m\u001b[0;34m]\u001b[0m\u001b[0;34m)\u001b[0m\u001b[0;34m)\u001b[0m\u001b[0;34m\u001b[0m\u001b[0m\n\u001b[0m",
      "\u001b[0;31mNameError\u001b[0m: name 'data' is not defined"
     ]
    }
   ],
   "source": [
    "#Amount of previous payment\n",
    "for c in range(1,7):\n",
    "    string=\"PAY_AMT\"+str(c)\n",
    "    print(data[string].quantile([0.25,0.5,0.75]))"
   ]
  },
  {
   "cell_type": "markdown",
   "metadata": {},
   "source": [
    "For this sector, we do not have any more negative values now and use the same method as before"
   ]
  },
  {
   "cell_type": "markdown",
   "metadata": {},
   "source": [
    "Obviously we could discard our lower bound for outliers as all the data is positive"
   ]
  },
  {
   "cell_type": "code",
   "execution_count": 4,
   "metadata": {},
   "outputs": [
    {
     "ename": "NameError",
     "evalue": "name 'data' is not defined",
     "output_type": "error",
     "traceback": [
      "\u001b[0;31m--------------------------------------------------------------------\u001b[0m",
      "\u001b[0;31mNameError\u001b[0m                          Traceback (most recent call last)",
      "\u001b[0;32m<ipython-input-4-8ab1108bdbcd>\u001b[0m in \u001b[0;36m<module>\u001b[0;34m\u001b[0m\n\u001b[1;32m      1\u001b[0m \u001b[0;32mfor\u001b[0m \u001b[0mcounter\u001b[0m \u001b[0;32min\u001b[0m \u001b[0mrange\u001b[0m\u001b[0;34m(\u001b[0m\u001b[0;36m6\u001b[0m\u001b[0;34m)\u001b[0m\u001b[0;34m:\u001b[0m\u001b[0;34m\u001b[0m\u001b[0m\n\u001b[1;32m      2\u001b[0m     \u001b[0mfig\u001b[0m\u001b[0;34m,\u001b[0m \u001b[0max\u001b[0m \u001b[0;34m=\u001b[0m \u001b[0mplt\u001b[0m\u001b[0;34m.\u001b[0m\u001b[0msubplots\u001b[0m\u001b[0;34m(\u001b[0m\u001b[0;34m)\u001b[0m\u001b[0;34m\u001b[0m\u001b[0m\n\u001b[0;32m----> 3\u001b[0;31m     \u001b[0mcol\u001b[0m \u001b[0;34m=\u001b[0m \u001b[0mdata\u001b[0m\u001b[0;34m.\u001b[0m\u001b[0mcolumns\u001b[0m\u001b[0;34m[\u001b[0m\u001b[0;36m18\u001b[0m\u001b[0;34m+\u001b[0m\u001b[0mcounter\u001b[0m\u001b[0;34m]\u001b[0m\u001b[0;34m\u001b[0m\u001b[0m\n\u001b[0m\u001b[1;32m      4\u001b[0m     \u001b[0ml\u001b[0m\u001b[0;34m,\u001b[0m\u001b[0mh\u001b[0m\u001b[0;34m=\u001b[0m\u001b[0mdata\u001b[0m\u001b[0;34m[\u001b[0m\u001b[0mcol\u001b[0m\u001b[0;34m]\u001b[0m\u001b[0;34m.\u001b[0m\u001b[0mquantile\u001b[0m\u001b[0;34m(\u001b[0m\u001b[0;34m[\u001b[0m\u001b[0;36m0.25\u001b[0m\u001b[0;34m,\u001b[0m\u001b[0;36m0.75\u001b[0m\u001b[0;34m]\u001b[0m\u001b[0;34m)\u001b[0m\u001b[0;34m\u001b[0m\u001b[0m\n\u001b[1;32m      5\u001b[0m     \u001b[0mrang\u001b[0m\u001b[0;34m=\u001b[0m\u001b[0;36m1.5\u001b[0m\u001b[0;34m*\u001b[0m\u001b[0;34m(\u001b[0m\u001b[0mh\u001b[0m\u001b[0;34m-\u001b[0m\u001b[0ml\u001b[0m\u001b[0;34m)\u001b[0m\u001b[0;34m\u001b[0m\u001b[0m\n",
      "\u001b[0;31mNameError\u001b[0m: name 'data' is not defined"
     ]
    },
    {
     "data": {
      "image/png": "[encoded data removed]",
      "text/plain": [
       "<matplotlib.figure.Figure at 0x1214467b8>"
      ]
     },
     "metadata": {
      "needs_background": "light"
     },
     "output_type": "display_data"
    }
   ],
   "source": [
    "for counter in range(6):\n",
    "    fig, ax = plt.subplots()\n",
    "    col = data.columns[18+counter]\n",
    "    l,h=data[col].quantile([0.25,0.75])\n",
    "    rang=1.5*(h-l)\n",
    "    low=l-rang\n",
    "    high=h+rang\n",
    "    data.plot.scatter(x='ID', y=col,c=col, cmap='viridis',ax=ax).set_title(\" \"+col)\n",
    "    ax.axhline(y=high, color='r', linestyle='dashed', linewidth=2)\n",
    "\n",
    "plt.show()"
   ]
  },
  {
   "cell_type": "markdown",
   "metadata": {},
   "source": [
    "Our current upper bound for outliers seems like it too low for this set of data"
   ]
  },
  {
   "cell_type": "code",
   "execution_count": 5,
   "metadata": {},
   "outputs": [
    {
     "ename": "NameError",
     "evalue": "name 'data' is not defined",
     "output_type": "error",
     "traceback": [
      "\u001b[0;31m--------------------------------------------------------------------\u001b[0m",
      "\u001b[0;31mNameError\u001b[0m                          Traceback (most recent call last)",
      "\u001b[0;32m<ipython-input-5-2f6b473be00c>\u001b[0m in \u001b[0;36m<module>\u001b[0;34m\u001b[0m\n\u001b[0;32m----> 1\u001b[0;31m \u001b[0mprint\u001b[0m\u001b[0;34m(\u001b[0m\u001b[0mdata\u001b[0m\u001b[0;34m[\u001b[0m\u001b[0;34m\"LIMIT_BAL\"\u001b[0m\u001b[0;34m]\u001b[0m\u001b[0;34m.\u001b[0m\u001b[0mquantile\u001b[0m\u001b[0;34m(\u001b[0m\u001b[0;34m[\u001b[0m\u001b[0;36m0\u001b[0m\u001b[0;34m,\u001b[0m\u001b[0;36m0.25\u001b[0m\u001b[0;34m,\u001b[0m\u001b[0;36m0.5\u001b[0m\u001b[0;34m,\u001b[0m\u001b[0;36m0.75\u001b[0m\u001b[0;34m,\u001b[0m\u001b[0;36m1\u001b[0m\u001b[0;34m]\u001b[0m\u001b[0;34m)\u001b[0m\u001b[0;34m)\u001b[0m\u001b[0;34m\u001b[0m\u001b[0m\n\u001b[0m",
      "\u001b[0;31mNameError\u001b[0m: name 'data' is not defined"
     ]
    }
   ],
   "source": [
    "   print(data[\"LIMIT_BAL\"].quantile([0,0.25,0.5,0.75,1]))"
   ]
  },
  {
   "cell_type": "markdown",
   "metadata": {},
   "source": [
    "Remove the outliers and transfer the data back the original form"
   ]
  },
  {
   "cell_type": "code",
   "execution_count": 6,
   "metadata": {},
   "outputs": [
    {
     "ename": "NameError",
     "evalue": "name 'data' is not defined",
     "output_type": "error",
     "traceback": [
      "\u001b[0;31m--------------------------------------------------------------------\u001b[0m",
      "\u001b[0;31mNameError\u001b[0m                          Traceback (most recent call last)",
      "\u001b[0;32m<ipython-input-6-1b664fb233f3>\u001b[0m in \u001b[0;36m<module>\u001b[0;34m\u001b[0m\n\u001b[1;32m      1\u001b[0m \u001b[0mfig\u001b[0m\u001b[0;34m,\u001b[0m \u001b[0max\u001b[0m \u001b[0;34m=\u001b[0m \u001b[0mplt\u001b[0m\u001b[0;34m.\u001b[0m\u001b[0msubplots\u001b[0m\u001b[0;34m(\u001b[0m\u001b[0;34m)\u001b[0m\u001b[0;34m\u001b[0m\u001b[0m\n\u001b[0;32m----> 2\u001b[0;31m \u001b[0mcol\u001b[0m \u001b[0;34m=\u001b[0m \u001b[0mdata\u001b[0m\u001b[0;34m.\u001b[0m\u001b[0mcolumns\u001b[0m\u001b[0;34m[\u001b[0m\u001b[0;36m1\u001b[0m\u001b[0;34m]\u001b[0m\u001b[0;34m\u001b[0m\u001b[0m\n\u001b[0m\u001b[1;32m      3\u001b[0m \u001b[0ml\u001b[0m\u001b[0;34m,\u001b[0m\u001b[0mh\u001b[0m\u001b[0;34m=\u001b[0m\u001b[0mdata\u001b[0m\u001b[0;34m[\u001b[0m\u001b[0mcol\u001b[0m\u001b[0;34m]\u001b[0m\u001b[0;34m.\u001b[0m\u001b[0mquantile\u001b[0m\u001b[0;34m(\u001b[0m\u001b[0;34m[\u001b[0m\u001b[0;36m0.25\u001b[0m\u001b[0;34m,\u001b[0m\u001b[0;36m0.75\u001b[0m\u001b[0;34m]\u001b[0m\u001b[0;34m)\u001b[0m\u001b[0;34m\u001b[0m\u001b[0m\n\u001b[1;32m      4\u001b[0m \u001b[0mrang\u001b[0m\u001b[0;34m=\u001b[0m\u001b[0;36m1.5\u001b[0m\u001b[0;34m*\u001b[0m\u001b[0;34m(\u001b[0m\u001b[0mh\u001b[0m\u001b[0;34m-\u001b[0m\u001b[0ml\u001b[0m\u001b[0;34m)\u001b[0m\u001b[0;34m\u001b[0m\u001b[0m\n\u001b[1;32m      5\u001b[0m \u001b[0mlow\u001b[0m\u001b[0;34m=\u001b[0m\u001b[0ml\u001b[0m\u001b[0;34m-\u001b[0m\u001b[0mrang\u001b[0m\u001b[0;34m\u001b[0m\u001b[0m\n",
      "\u001b[0;31mNameError\u001b[0m: name 'data' is not defined"
     ]
    },
    {
     "data": {
      "image/png": "[encoded data removed]",
      "text/plain": [
       "<matplotlib.figure.Figure at 0x121460978>"
      ]
     },
     "metadata": {
      "needs_background": "light"
     },
     "output_type": "display_data"
    }
   ],
   "source": [
    "fig, ax = plt.subplots()\n",
    "col = data.columns[1]\n",
    "l,h=data[col].quantile([0.25,0.75])\n",
    "rang=1.5*(h-l)\n",
    "low=l-rang\n",
    "high=h+rang\n",
    "data.plot.scatter(x='ID', y=col,c=col, cmap='viridis',ax=ax).set_title(\" \"+col)\n",
    "ax.axhline(y=high, color='r', linestyle='dashed', linewidth=2)"
   ]
  },
  {
   "cell_type": "markdown",
   "metadata": {},
   "source": [
    "### Data Transformations"
   ]
  },
  {
   "cell_type": "markdown",
   "metadata": {},
   "source": [
    "#### Social status and Dummy variables"
   ]
  },
  {
   "cell_type": "markdown",
   "metadata": {},
   "source": [
    "Initially, taking an overview of out data: \n",
    "\n",
    "Education is represented as numerical values which each represents a different level of education. We will replace this feature with some dummy categories as the the numbers 1, 2, 3 which represent Grad, Univeristy and High Shool education respecitvly will bring new meaning to these categories due to its mathemticla properties. We can eliminate this by replacing them with binary dummy variables. Using the same logic we also create binary dummy variables for Marriage and Sex."
   ]
  },
  {
   "cell_type": "code",
   "execution_count": 7,
   "metadata": {},
   "outputs": [
    {
     "ename": "NameError",
     "evalue": "name 'data' is not defined",
     "output_type": "error",
     "traceback": [
      "\u001b[0;31m--------------------------------------------------------------------\u001b[0m",
      "\u001b[0;31mNameError\u001b[0m                          Traceback (most recent call last)",
      "\u001b[0;32m<ipython-input-7-7fa7a66f0b87>\u001b[0m in \u001b[0;36m<module>\u001b[0;34m\u001b[0m\n\u001b[1;32m      1\u001b[0m \u001b[0;31m#Education\u001b[0m\u001b[0;34m\u001b[0m\u001b[0;34m\u001b[0m\u001b[0m\n\u001b[0;32m----> 2\u001b[0;31m \u001b[0mgrad\u001b[0m \u001b[0;34m=\u001b[0m \u001b[0;34m(\u001b[0m\u001b[0mdata\u001b[0m\u001b[0;34m[\u001b[0m\u001b[0;34m'EDUCATION'\u001b[0m\u001b[0;34m]\u001b[0m \u001b[0;34m==\u001b[0m \u001b[0;36m1\u001b[0m\u001b[0;34m)\u001b[0m\u001b[0;34m.\u001b[0m\u001b[0mastype\u001b[0m\u001b[0;34m(\u001b[0m\u001b[0;34m'int'\u001b[0m\u001b[0;34m)\u001b[0m\u001b[0;34m\u001b[0m\u001b[0m\n\u001b[0m\u001b[1;32m      3\u001b[0m \u001b[0muni\u001b[0m \u001b[0;34m=\u001b[0m \u001b[0;34m(\u001b[0m\u001b[0mdata\u001b[0m\u001b[0;34m[\u001b[0m\u001b[0;34m'EDUCATION'\u001b[0m\u001b[0;34m]\u001b[0m \u001b[0;34m==\u001b[0m \u001b[0;36m2\u001b[0m\u001b[0;34m)\u001b[0m\u001b[0;34m.\u001b[0m\u001b[0mastype\u001b[0m\u001b[0;34m(\u001b[0m\u001b[0;34m'int'\u001b[0m\u001b[0;34m)\u001b[0m\u001b[0;34m\u001b[0m\u001b[0m\n\u001b[1;32m      4\u001b[0m \u001b[0mhs\u001b[0m \u001b[0;34m=\u001b[0m \u001b[0;34m(\u001b[0m\u001b[0mdata\u001b[0m\u001b[0;34m[\u001b[0m\u001b[0;34m'EDUCATION'\u001b[0m\u001b[0;34m]\u001b[0m \u001b[0;34m==\u001b[0m \u001b[0;36m3\u001b[0m\u001b[0;34m)\u001b[0m\u001b[0;34m.\u001b[0m\u001b[0mastype\u001b[0m\u001b[0;34m(\u001b[0m\u001b[0;34m'int'\u001b[0m\u001b[0;34m)\u001b[0m\u001b[0;34m\u001b[0m\u001b[0m\n\u001b[1;32m      5\u001b[0m \u001b[0mothers\u001b[0m \u001b[0;34m=\u001b[0m \u001b[0;34m(\u001b[0m\u001b[0mdata\u001b[0m\u001b[0;34m[\u001b[0m\u001b[0;34m'EDUCATION'\u001b[0m\u001b[0;34m]\u001b[0m \u001b[0;34m==\u001b[0m \u001b[0;36m4\u001b[0m\u001b[0;34m)\u001b[0m\u001b[0;34m.\u001b[0m\u001b[0mastype\u001b[0m\u001b[0;34m(\u001b[0m\u001b[0;34m'int'\u001b[0m\u001b[0;34m)\u001b[0m \u001b[0;34m+\u001b[0m\u001b[0;34m+\u001b[0m \u001b[0;34m(\u001b[0m\u001b[0mdata\u001b[0m\u001b[0;34m[\u001b[0m\u001b[0;34m'EDUCATION'\u001b[0m\u001b[0;34m]\u001b[0m \u001b[0;34m==\u001b[0m \u001b[0;36m6\u001b[0m\u001b[0;34m)\u001b[0m\u001b[0;34m.\u001b[0m\u001b[0mastype\u001b[0m\u001b[0;34m(\u001b[0m\u001b[0;34m'int'\u001b[0m\u001b[0;34m)\u001b[0m \u001b[0;34m+\u001b[0m\u001b[0;34m+\u001b[0m \u001b[0;34m(\u001b[0m\u001b[0mdata\u001b[0m\u001b[0;34m[\u001b[0m\u001b[0;34m'EDUCATION'\u001b[0m\u001b[0;34m]\u001b[0m \u001b[0;34m==\u001b[0m \u001b[0;36m5\u001b[0m\u001b[0;34m)\u001b[0m\u001b[0;34m.\u001b[0m\u001b[0mastype\u001b[0m\u001b[0;34m(\u001b[0m\u001b[0;34m'int'\u001b[0m\u001b[0;34m)\u001b[0m \u001b[0;34m+\u001b[0m\u001b[0;34m+\u001b[0m \u001b[0;34m(\u001b[0m\u001b[0mdata\u001b[0m\u001b[0;34m[\u001b[0m\u001b[0;34m'EDUCATION'\u001b[0m\u001b[0;34m]\u001b[0m \u001b[0;34m==\u001b[0m \u001b[0;36m0\u001b[0m\u001b[0;34m)\u001b[0m\u001b[0;34m.\u001b[0m\u001b[0mastype\u001b[0m\u001b[0;34m(\u001b[0m\u001b[0;34m'int'\u001b[0m\u001b[0;34m)\u001b[0m\u001b[0;34m\u001b[0m\u001b[0m\n",
      "\u001b[0;31mNameError\u001b[0m: name 'data' is not defined"
     ]
    }
   ],
   "source": [
    "#Education \n",
    "grad = (data['EDUCATION'] == 1).astype('int')\n",
    "uni = (data['EDUCATION'] == 2).astype('int')\n",
    "hs = (data['EDUCATION'] == 3).astype('int') \n",
    "others = (data['EDUCATION'] == 4).astype('int') ++ (data['EDUCATION'] == 6).astype('int') ++ (data['EDUCATION'] == 5).astype('int') ++ (data['EDUCATION'] == 0).astype('int')\n",
    "data.insert(loc=3, column='GRAD_SCHOOL', value=grad)\n",
    "data.insert(loc=3, column='UNIVERSITY', value=uni)\n",
    "data.insert(loc=3, column='HIGH_SCHOOL', value=hs)\n",
    "data.insert(loc=3, column='OTHERS' , value = others)\n",
    "data = data.drop(columns = 'EDUCATION')\n",
    "\n",
    "#Sex\n",
    "male = (data['SEX'] == 1).astype('int')\n",
    "data.insert(loc=3, column='MALE', value=male)\n",
    "data = data.drop(columns = 'SEX')\n",
    "\n",
    "#Marriage\n",
    "marriage = (data['MARRIAGE'] == 1).astype('int')\n",
    "data.insert(loc=8, column='MARRIED', value=marriage)\n",
    "data = data.drop(columns = 'MARRIAGE')"
   ]
  },
  {
   "cell_type": "markdown",
   "metadata": {},
   "source": [
    "From the initial visualisation we saw that the spread of the monetary features was very large, making it difficult to interpret its distribution. We transform these features by applying the log function. This will 'shrink' the value range while keeping the same logarithmic spread, allowing us to better visualise and apply functions to. We later show that impact of this transformation does not impact the number of outliers in our dataset, so the characteristics of the dataset remain similar."
   ]
  },
  {
   "cell_type": "markdown",
   "metadata": {},
   "source": [
    "#### Logging monetary features"
   ]
  },
  {
   "cell_type": "code",
   "execution_count": 8,
   "metadata": {},
   "outputs": [
    {
     "ename": "NameError",
     "evalue": "name 'data' is not defined",
     "output_type": "error",
     "traceback": [
      "\u001b[0;31m--------------------------------------------------------------------\u001b[0m",
      "\u001b[0;31mNameError\u001b[0m                          Traceback (most recent call last)",
      "\u001b[0;32m<ipython-input-8-c3c475c05230>\u001b[0m in \u001b[0;36m<module>\u001b[0;34m\u001b[0m\n\u001b[1;32m      1\u001b[0m \u001b[0mlogged\u001b[0m \u001b[0;34m=\u001b[0m \u001b[0;34m[\u001b[0m\u001b[0;34m]\u001b[0m\u001b[0;34m\u001b[0m\u001b[0m\n\u001b[1;32m      2\u001b[0m \u001b[0;34m\u001b[0m\u001b[0m\n\u001b[0;32m----> 3\u001b[0;31m \u001b[0mlog_LB\u001b[0m \u001b[0;34m=\u001b[0m \u001b[0mdata\u001b[0m\u001b[0;34m[\u001b[0m\u001b[0;34m\"LIMIT_BAL\"\u001b[0m\u001b[0;34m]\u001b[0m\u001b[0;34m.\u001b[0m\u001b[0mapply\u001b[0m\u001b[0;34m(\u001b[0m \u001b[0;32mlambda\u001b[0m \u001b[0mx\u001b[0m\u001b[0;34m:\u001b[0m \u001b[0mnp\u001b[0m\u001b[0;34m.\u001b[0m\u001b[0mlog1p\u001b[0m\u001b[0;34m(\u001b[0m\u001b[0mx\u001b[0m\u001b[0;34m)\u001b[0m \u001b[0;32mif\u001b[0m \u001b[0mx\u001b[0m\u001b[0;34m>\u001b[0m\u001b[0;36m0\u001b[0m \u001b[0;32melse\u001b[0m \u001b[0;36m0\u001b[0m\u001b[0;34m)\u001b[0m\u001b[0;34m\u001b[0m\u001b[0m\n\u001b[0m\u001b[1;32m      4\u001b[0m \u001b[0mdata\u001b[0m\u001b[0;34m.\u001b[0m\u001b[0minsert\u001b[0m\u001b[0;34m(\u001b[0m\u001b[0mloc\u001b[0m\u001b[0;34m=\u001b[0m\u001b[0;36m1\u001b[0m\u001b[0;34m,\u001b[0m \u001b[0mcolumn\u001b[0m\u001b[0;34m=\u001b[0m\u001b[0;34m'log_LIMIT_BAL'\u001b[0m\u001b[0;34m,\u001b[0m \u001b[0mvalue\u001b[0m\u001b[0;34m=\u001b[0m\u001b[0mlog_LB\u001b[0m\u001b[0;34m)\u001b[0m\u001b[0;34m\u001b[0m\u001b[0m\n\u001b[1;32m      5\u001b[0m \u001b[0mdata\u001b[0m \u001b[0;34m=\u001b[0m \u001b[0mdata\u001b[0m\u001b[0;34m.\u001b[0m\u001b[0mdrop\u001b[0m\u001b[0;34m(\u001b[0m\u001b[0mcolumns\u001b[0m \u001b[0;34m=\u001b[0m \u001b[0;34m'LIMIT_BAL'\u001b[0m\u001b[0;34m)\u001b[0m\u001b[0;34m\u001b[0m\u001b[0m\n",
      "\u001b[0;31mNameError\u001b[0m: name 'data' is not defined"
     ]
    }
   ],
   "source": [
    "logged = []\n",
    "\n",
    "log_LB = data[\"LIMIT_BAL\"].apply( lambda x: np.log1p(x) if x>0 else 0)\n",
    "data.insert(loc=1, column='log_LIMIT_BAL', value=log_LB)\n",
    "data = data.drop(columns = 'LIMIT_BAL')\n",
    "logged.append(\"log_LIMIT_BAL\")\n",
    "\n",
    "for ii in range(1,7):\n",
    "    iii  = data[\"BILL_AMT\"  + str( ii )].apply( lambda x: np.log1p(x) if (x>0) else 0 )\n",
    "    data.insert(loc=16+ii, column=\"log_BILL_AMT\" + str( ii ), value=iii)\n",
    "    data = data.drop(columns = \"BILL_AMT\"  + str( ii ))\n",
    "    logged.append(\"log_BILL_AMT\" + str( ii ) )\n",
    "\n",
    "for ii in range(1,7):\n",
    "    iii  = data[\"PAY_AMT\"  + str( ii )].apply( lambda x: np.log1p(x) if (x>0) else 0 )\n",
    "    data.insert(loc=21+ii, column=\"log_PAY_AMT\" + str( ii ), value=iii)\n",
    "    data = data.drop(columns = \"PAY_AMT\"  + str( ii ))\n",
    "    logged.append(\"log_PAY_AMT\" + str( ii ) )"
   ]
  },
  {
   "cell_type": "markdown",
   "metadata": {},
   "source": [
    "We again plot the distribution of the monetary features with respect to the output, this time the data is logged allowing us to better interpret it."
   ]
  },
  {
   "cell_type": "code",
   "execution_count": 9,
   "metadata": {},
   "outputs": [
    {
     "ename": "NameError",
     "evalue": "name 'data' is not defined",
     "output_type": "error",
     "traceback": [
      "\u001b[0;31m--------------------------------------------------------------------\u001b[0m",
      "\u001b[0;31mNameError\u001b[0m                          Traceback (most recent call last)",
      "\u001b[0;32m<ipython-input-9-c6542f8c47ed>\u001b[0m in \u001b[0;36m<module>\u001b[0;34m\u001b[0m\n\u001b[0;32m----> 1\u001b[0;31m \u001b[0mf\u001b[0m \u001b[0;34m=\u001b[0m \u001b[0mpd\u001b[0m\u001b[0;34m.\u001b[0m\u001b[0mmelt\u001b[0m\u001b[0;34m(\u001b[0m \u001b[0mdata\u001b[0m\u001b[0;34m,\u001b[0m \u001b[0mid_vars\u001b[0m\u001b[0;34m=\u001b[0m\u001b[0;34m'default payment next month'\u001b[0m\u001b[0;34m,\u001b[0m \u001b[0mvalue_vars\u001b[0m\u001b[0;34m=\u001b[0m\u001b[0mlogged\u001b[0m\u001b[0;34m)\u001b[0m\u001b[0;34m\u001b[0m\u001b[0m\n\u001b[0m\u001b[1;32m      2\u001b[0m \u001b[0mg\u001b[0m \u001b[0;34m=\u001b[0m \u001b[0msns\u001b[0m\u001b[0;34m.\u001b[0m\u001b[0mFacetGrid\u001b[0m\u001b[0;34m(\u001b[0m \u001b[0mf\u001b[0m\u001b[0;34m,\u001b[0m \u001b[0mhue\u001b[0m\u001b[0;34m=\u001b[0m\u001b[0;34m'default payment next month'\u001b[0m\u001b[0;34m,\u001b[0m \u001b[0mcol\u001b[0m\u001b[0;34m=\u001b[0m\u001b[0;34m\"variable\"\u001b[0m\u001b[0;34m,\u001b[0m \u001b[0mcol_wrap\u001b[0m\u001b[0;34m=\u001b[0m\u001b[0;36m3\u001b[0m\u001b[0;34m,\u001b[0m \u001b[0msharex\u001b[0m\u001b[0;34m=\u001b[0m\u001b[0;32mFalse\u001b[0m\u001b[0;34m,\u001b[0m \u001b[0msharey\u001b[0m\u001b[0;34m=\u001b[0m\u001b[0;32mFalse\u001b[0m \u001b[0;34m)\u001b[0m\u001b[0;34m\u001b[0m\u001b[0m\n\u001b[1;32m      3\u001b[0m \u001b[0mg\u001b[0m \u001b[0;34m=\u001b[0m \u001b[0mg\u001b[0m\u001b[0;34m.\u001b[0m\u001b[0mmap\u001b[0m\u001b[0;34m(\u001b[0m \u001b[0msns\u001b[0m\u001b[0;34m.\u001b[0m\u001b[0mdistplot\u001b[0m\u001b[0;34m,\u001b[0m \u001b[0;34m\"value\"\u001b[0m\u001b[0;34m,\u001b[0m \u001b[0mkde\u001b[0m\u001b[0;34m=\u001b[0m\u001b[0;32mTrue\u001b[0m\u001b[0;34m)\u001b[0m\u001b[0;34m.\u001b[0m\u001b[0madd_legend\u001b[0m\u001b[0;34m(\u001b[0m\u001b[0;34m)\u001b[0m\u001b[0;34m\u001b[0m\u001b[0m\n",
      "\u001b[0;31mNameError\u001b[0m: name 'data' is not defined"
     ]
    }
   ],
   "source": [
    "f = pd.melt( data, id_vars='default payment next month', value_vars=logged)\n",
    "g = sns.FacetGrid( f, hue='default payment next month', col=\"variable\", col_wrap=3, sharex=False, sharey=False )\n",
    "g = g.map( sns.distplot, \"value\", kde=True).add_legend()"
   ]
  },
  {
   "cell_type": "markdown",
   "metadata": {},
   "source": [
    "Looking at these plots we are able to see the relationship between these features and the outcome. We see that for lower values of log_LIMIT_BAL there are comaprativly more deafualtors compared to non-deafualtors. We also see that for  higher log_PAY_AMT the distributions of defaultors is quite low."
   ]
  },
  {
   "cell_type": "markdown",
   "metadata": {},
   "source": [
    "#### Isolation Forest: Removing Outliers"
   ]
  },
  {
   "cell_type": "code",
   "execution_count": 10,
   "metadata": {},
   "outputs": [
    {
     "ename": "NameError",
     "evalue": "name 'data' is not defined",
     "output_type": "error",
     "traceback": [
      "\u001b[0;31m--------------------------------------------------------------------\u001b[0m",
      "\u001b[0;31mNameError\u001b[0m                          Traceback (most recent call last)",
      "\u001b[0;32m<ipython-input-10-b78bc5aa9053>\u001b[0m in \u001b[0;36m<module>\u001b[0;34m\u001b[0m\n\u001b[0;32m----> 1\u001b[0;31m \u001b[0mcols\u001b[0m \u001b[0;34m=\u001b[0m \u001b[0mlist\u001b[0m\u001b[0;34m(\u001b[0m\u001b[0mdata\u001b[0m\u001b[0;34m.\u001b[0m\u001b[0mcolumns\u001b[0m\u001b[0;34m)\u001b[0m\u001b[0;34m\u001b[0m\u001b[0m\n\u001b[0m\u001b[1;32m      2\u001b[0m \u001b[0;34m\u001b[0m\u001b[0m\n\u001b[1;32m      3\u001b[0m \u001b[0mrng\u001b[0m \u001b[0;34m=\u001b[0m \u001b[0mnp\u001b[0m\u001b[0;34m.\u001b[0m\u001b[0mrandom\u001b[0m\u001b[0;34m.\u001b[0m\u001b[0mRandomState\u001b[0m\u001b[0;34m(\u001b[0m\u001b[0;36m24000\u001b[0m\u001b[0;34m)\u001b[0m\u001b[0;34m\u001b[0m\u001b[0m\n\u001b[1;32m      4\u001b[0m clf = IsolationForest(max_samples='auto',\n\u001b[1;32m      5\u001b[0m                       random_state=rng,)\n",
      "\u001b[0;31mNameError\u001b[0m: name 'data' is not defined"
     ]
    }
   ],
   "source": [
    "cols = list(data.columns)\n",
    "\n",
    "rng = np.random.RandomState(24000)\n",
    "clf = IsolationForest(max_samples='auto',\n",
    "                      random_state=rng,)\n",
    "cols = list(data.columns)\n",
    "clf.fit(data[cols])\n",
    "output_table = pd.DataFrame(clf.predict(data[cols]))\n",
    "print('Outliers in normal data:')\n",
    "print(output_table[0].value_counts())\n",
    "\n",
    "clf.fit(data[logged])\n",
    "output_table = pd.DataFrame(clf.predict(data[logged]))\n",
    "print('Outliers in logged data:')\n",
    "print(output_table[0].value_counts())"
   ]
  },
  {
   "cell_type": "markdown",
   "metadata": {
    "scrolled": true
   },
   "source": [
    "Using the traditional definition of the outliers is not a suitable choice for our set of data. As we have seen previously, using the formula: Q3+1.5∗IQR or <Q1−1.5∗IQR would delete large portion of data. Therefore, we used isolation forest which is an outlier detecting classifier to locate the outliers. \n",
    "\n",
    "Above figures shows that applying the isolation forest classifier on the original dataset and the logged dataset would give us the same number of outliers. Supproting that logging is a right transformtion of the data."
   ]
  },
  {
   "cell_type": "markdown",
   "metadata": {},
   "source": [
    "### Correlation with the 'default' variable"
   ]
  },
  {
   "cell_type": "markdown",
   "metadata": {},
   "source": [
    "Here we have to transform some values of the data: set 1 to male and 2 = female, categorize the undocumented values of EDUCATION to others. Most importantly separating people into 4 age groups: younger than 25, 25-35 years old, 35-45 years old, 45 and plus. \n",
    "\n",
    "Below we would use -25 indicating ages that range from 0-25, -35 for range 25-35, -45 for range 36-45, 45 for 45 plus"
   ]
  },
  {
   "cell_type": "code",
   "execution_count": 11,
   "metadata": {},
   "outputs": [
    {
     "ename": "NameError",
     "evalue": "name 'outlierData' is not defined",
     "output_type": "error",
     "traceback": [
      "\u001b[0;31m--------------------------------------------------------------------\u001b[0m",
      "\u001b[0;31mNameError\u001b[0m                          Traceback (most recent call last)",
      "\u001b[0;32m<ipython-input-11-3883d0d8f864>\u001b[0m in \u001b[0;36m<module>\u001b[0;34m\u001b[0m\n\u001b[1;32m      1\u001b[0m \u001b[0;31m# correlation between the social sectors\u001b[0m\u001b[0;34m\u001b[0m\u001b[0;34m\u001b[0m\u001b[0m\n\u001b[0;32m----> 2\u001b[0;31m \u001b[0moutlierData\u001b[0m\u001b[0;34m[\u001b[0m\u001b[0;34m'SEX'\u001b[0m\u001b[0;34m]\u001b[0m \u001b[0;34m=\u001b[0m\u001b[0moutlierData\u001b[0m\u001b[0;34m[\u001b[0m\u001b[0;34m'SEX'\u001b[0m\u001b[0;34m]\u001b[0m\u001b[0;34m.\u001b[0m\u001b[0mmap\u001b[0m\u001b[0;34m(\u001b[0m\u001b[0;34m{\u001b[0m\u001b[0;36m1\u001b[0m\u001b[0;34m:\u001b[0m \u001b[0;34m'male'\u001b[0m\u001b[0;34m,\u001b[0m \u001b[0;36m2\u001b[0m\u001b[0;34m:\u001b[0m \u001b[0;34m'female'\u001b[0m\u001b[0;34m}\u001b[0m\u001b[0;34m)\u001b[0m\u001b[0;34m\u001b[0m\u001b[0m\n\u001b[0m\u001b[1;32m      3\u001b[0m \u001b[0moutlierData\u001b[0m\u001b[0;34m[\u001b[0m\u001b[0;34m'MARRIAGE'\u001b[0m\u001b[0;34m]\u001b[0m \u001b[0;34m=\u001b[0m \u001b[0moutlierData\u001b[0m\u001b[0;34m[\u001b[0m\u001b[0;34m'MARRIAGE'\u001b[0m\u001b[0;34m]\u001b[0m\u001b[0;34m.\u001b[0m\u001b[0mmap\u001b[0m\u001b[0;34m(\u001b[0m\u001b[0;34m{\u001b[0m\u001b[0;36m1\u001b[0m\u001b[0;34m:\u001b[0m \u001b[0;34m'married'\u001b[0m\u001b[0;34m,\u001b[0m \u001b[0;36m2\u001b[0m\u001b[0;34m:\u001b[0m \u001b[0;34m'single'\u001b[0m\u001b[0;34m,\u001b[0m\u001b[0;36m3\u001b[0m\u001b[0;34m:\u001b[0m\u001b[0;34m'others'\u001b[0m\u001b[0;34m}\u001b[0m\u001b[0;34m)\u001b[0m\u001b[0;34m\u001b[0m\u001b[0m\n\u001b[1;32m      4\u001b[0m \u001b[0moutlierData\u001b[0m\u001b[0;34m[\u001b[0m\u001b[0;34m'EDUCATION'\u001b[0m\u001b[0;34m]\u001b[0m\u001b[0;34m=\u001b[0m\u001b[0moutlierData\u001b[0m\u001b[0;34m[\u001b[0m\u001b[0;34m'EDUCATION'\u001b[0m\u001b[0;34m]\u001b[0m\u001b[0;34m.\u001b[0m\u001b[0mmap\u001b[0m\u001b[0;34m(\u001b[0m\u001b[0;34m{\u001b[0m \u001b[0;36m0\u001b[0m \u001b[0;34m:\u001b[0m\u001b[0;34m'others'\u001b[0m\u001b[0;34m,\u001b[0m \u001b[0;36m1\u001b[0m \u001b[0;34m:\u001b[0m\u001b[0;34m'graduate school'\u001b[0m\u001b[0;34m,\u001b[0m \u001b[0;36m2\u001b[0m \u001b[0;34m:\u001b[0m\u001b[0;34m'university'\u001b[0m\u001b[0;34m,\u001b[0m \u001b[0;36m3\u001b[0m \u001b[0;34m:\u001b[0m\u001b[0;34m'high school'\u001b[0m\u001b[0;34m,\u001b[0m \u001b[0;36m4\u001b[0m \u001b[0;34m:\u001b[0m\u001b[0;34m'others'\u001b[0m\u001b[0;34m,\u001b[0m \u001b[0;36m5\u001b[0m \u001b[0;34m:\u001b[0m \u001b[0;34m'others'\u001b[0m\u001b[0;34m,\u001b[0m \u001b[0;36m6\u001b[0m \u001b[0;34m:\u001b[0m\u001b[0;34m'others'\u001b[0m\u001b[0;34m}\u001b[0m\u001b[0;34m)\u001b[0m\u001b[0;34m\u001b[0m\u001b[0m\n\u001b[1;32m      5\u001b[0m \u001b[0;31m# a=pd.cut(outlierData['AGE'], [0, 25, 35, 45, 100])\u001b[0m\u001b[0;34m\u001b[0m\u001b[0;34m\u001b[0m\u001b[0m\n",
      "\u001b[0;31mNameError\u001b[0m: name 'outlierData' is not defined"
     ]
    }
   ],
   "source": [
    "# correlation between the social sectors\n",
    "outlierData['SEX'] =outlierData['SEX'].map({1: 'male', 2: 'female'})\n",
    "outlierData['MARRIAGE'] = outlierData['MARRIAGE'].map({1: 'married', 2: 'single',3:'others'})\n",
    "outlierData['EDUCATION']=outlierData['EDUCATION'].map({ 0 :'others', 1 :'graduate school', 2 :'university', 3 :'high school', 4 :'others', 5 : 'others', 6 :'others'})\n",
    "# a=pd.cut(outlierData['AGE'], [0, 25, 35, 45, 100])\n",
    "# agegroup=outlierData['AGE'].groupby(a)\n",
    "    \n",
    "outlierData['AgeGroup'] = outlierData['AGE']\n",
    "# At below, -25 indicating ages that range from 0-25\n",
    "# -35 for range 25-35, -45 for range 36-45, 45 for 45 plus\n",
    "for i, row in outlierData.iterrows():\n",
    "    ifor_val=row['AgeGroup']\n",
    " \n",
    "    if ifor_val<26:        \n",
    "        outlierData.at[i,\"AgeGroup\"]='-25'\n",
    "    elif ifor_val<36:\n",
    "        outlierData.at[i,\"AgeGroup\"]='-35'\n",
    "    elif ifor_val<46:\n",
    "        outlierData.at[i,\"AgeGroup\"]='-45'\n",
    "    else:\n",
    "        outlierData.at[i,\"AgeGroup\"]='+45'"
   ]
  },
  {
   "cell_type": "code",
   "execution_count": 12,
   "metadata": {},
   "outputs": [
    {
     "ename": "NameError",
     "evalue": "name 'mosaic' is not defined",
     "output_type": "error",
     "traceback": [
      "\u001b[0;31m--------------------------------------------------------------------\u001b[0m",
      "\u001b[0;31mNameError\u001b[0m                          Traceback (most recent call last)",
      "\u001b[0;32m<ipython-input-12-28777b5886eb>\u001b[0m in \u001b[0;36m<module>\u001b[0;34m\u001b[0m\n\u001b[1;32m      1\u001b[0m \u001b[0;31m# Age\u001b[0m\u001b[0;34m\u001b[0m\u001b[0;34m\u001b[0m\u001b[0m\n\u001b[0;32m----> 2\u001b[0;31m \u001b[0mmosaic\u001b[0m\u001b[0;34m(\u001b[0m\u001b[0moutlierData\u001b[0m\u001b[0;34m,\u001b[0m \u001b[0;34m[\u001b[0m\u001b[0;34m'AgeGroup'\u001b[0m\u001b[0;34m,\u001b[0m\u001b[0;34m'default payment next month'\u001b[0m\u001b[0;34m]\u001b[0m\u001b[0;34m)\u001b[0m\u001b[0;34m\u001b[0m\u001b[0m\n\u001b[0m\u001b[1;32m      3\u001b[0m \u001b[0mplt\u001b[0m\u001b[0;34m.\u001b[0m\u001b[0mxlabel\u001b[0m\u001b[0;34m(\u001b[0m\u001b[0;34m\"Age\"\u001b[0m\u001b[0;34m)\u001b[0m\u001b[0;34m\u001b[0m\u001b[0m\n\u001b[1;32m      4\u001b[0m \u001b[0mplt\u001b[0m\u001b[0;34m.\u001b[0m\u001b[0mylabel\u001b[0m\u001b[0;34m(\u001b[0m\u001b[0;34m\"default payment\"\u001b[0m\u001b[0;34m)\u001b[0m\u001b[0;34m\u001b[0m\u001b[0m\n\u001b[1;32m      5\u001b[0m \u001b[0mplt\u001b[0m\u001b[0;34m.\u001b[0m\u001b[0mshow\u001b[0m\u001b[0;34m(\u001b[0m\u001b[0;34m)\u001b[0m\u001b[0;34m\u001b[0m\u001b[0m\n",
      "\u001b[0;31mNameError\u001b[0m: name 'mosaic' is not defined"
     ]
    }
   ],
   "source": [
    "# Age\n",
    "mosaic(outlierData, ['AgeGroup','default payment next month'])\n",
    "plt.xlabel(\"Age\")\n",
    "plt.ylabel(\"default payment\")\n",
    "plt.show()\n"
   ]
  },
  {
   "cell_type": "markdown",
   "metadata": {},
   "source": [
    "The biggest chances to default for age group under 25 and smallest for 25 - 34 age group.\n"
   ]
  },
  {
   "cell_type": "code",
   "execution_count": 13,
   "metadata": {},
   "outputs": [
    {
     "ename": "NameError",
     "evalue": "name 'outlierData' is not defined",
     "output_type": "error",
     "traceback": [
      "\u001b[0;31m--------------------------------------------------------------------\u001b[0m",
      "\u001b[0;31mNameError\u001b[0m                          Traceback (most recent call last)",
      "\u001b[0;32m<ipython-input-13-9cff82a5e30f>\u001b[0m in \u001b[0;36m<module>\u001b[0;34m\u001b[0m\n\u001b[1;32m      1\u001b[0m \u001b[0mfigs\u001b[0m\u001b[0;34m,\u001b[0m \u001b[0maxs\u001b[0m \u001b[0;34m=\u001b[0m \u001b[0mplt\u001b[0m\u001b[0;34m.\u001b[0m\u001b[0msubplots\u001b[0m\u001b[0;34m(\u001b[0m\u001b[0;36m2\u001b[0m\u001b[0;34m,\u001b[0m \u001b[0;36m2\u001b[0m\u001b[0;34m,\u001b[0m \u001b[0mfigsize\u001b[0m\u001b[0;34m=\u001b[0m\u001b[0;34m(\u001b[0m\u001b[0;36m12\u001b[0m\u001b[0;34m,\u001b[0m \u001b[0;36m10\u001b[0m\u001b[0;34m)\u001b[0m\u001b[0;34m)\u001b[0m\u001b[0;34m\u001b[0m\u001b[0m\n\u001b[1;32m      2\u001b[0m \u001b[0maxs\u001b[0m \u001b[0;34m=\u001b[0m \u001b[0maxs\u001b[0m\u001b[0;34m.\u001b[0m\u001b[0mravel\u001b[0m\u001b[0;34m(\u001b[0m\u001b[0;34m)\u001b[0m\u001b[0;34m\u001b[0m\u001b[0m\n\u001b[0;32m----> 3\u001b[0;31m \u001b[0mdistinct\u001b[0m\u001b[0;34m=\u001b[0m\u001b[0moutlierData\u001b[0m\u001b[0;34m[\u001b[0m\u001b[0;34m'AgeGroup'\u001b[0m\u001b[0;34m]\u001b[0m\u001b[0;34m.\u001b[0m\u001b[0munique\u001b[0m\u001b[0;34m(\u001b[0m\u001b[0;34m)\u001b[0m\u001b[0;34m\u001b[0m\u001b[0m\n\u001b[0m\u001b[1;32m      4\u001b[0m \u001b[0;32mfor\u001b[0m \u001b[0mcounter\u001b[0m \u001b[0;32min\u001b[0m \u001b[0mrange\u001b[0m\u001b[0;34m(\u001b[0m\u001b[0mlen\u001b[0m\u001b[0;34m(\u001b[0m\u001b[0mdistinct\u001b[0m\u001b[0;34m)\u001b[0m\u001b[0;34m)\u001b[0m\u001b[0;34m:\u001b[0m\u001b[0;34m\u001b[0m\u001b[0m\n\u001b[1;32m      5\u001b[0m     \u001b[0mmosaic\u001b[0m\u001b[0;34m(\u001b[0m\u001b[0moutlierData\u001b[0m\u001b[0;34m.\u001b[0m\u001b[0mloc\u001b[0m\u001b[0;34m[\u001b[0m\u001b[0moutlierData\u001b[0m\u001b[0;34m[\u001b[0m\u001b[0;34m'AgeGroup'\u001b[0m\u001b[0;34m]\u001b[0m\u001b[0;34m==\u001b[0m\u001b[0mdistinct\u001b[0m\u001b[0;34m[\u001b[0m\u001b[0mcounter\u001b[0m\u001b[0;34m]\u001b[0m\u001b[0;34m]\u001b[0m\u001b[0;34m,\u001b[0m \u001b[0;34m[\u001b[0m\u001b[0;34m'SEX'\u001b[0m\u001b[0;34m,\u001b[0m\u001b[0;34m'default payment next month'\u001b[0m\u001b[0;34m]\u001b[0m\u001b[0;34m,\u001b[0m\u001b[0max\u001b[0m\u001b[0;34m=\u001b[0m\u001b[0maxs\u001b[0m\u001b[0;34m[\u001b[0m\u001b[0mcounter\u001b[0m\u001b[0;34m]\u001b[0m\u001b[0;34m)\u001b[0m\u001b[0;34m\u001b[0m\u001b[0m\n",
      "\u001b[0;31mNameError\u001b[0m: name 'outlierData' is not defined"
     ]
    },
    {
     "data": {
      "image/png": "[encoded data removed]",
      "text/plain": [
       "<matplotlib.figure.Figure at 0x1216df4a8>"
      ]
     },
     "metadata": {
      "needs_background": "light"
     },
     "output_type": "display_data"
    }
   ],
   "source": [
    "figs, axs = plt.subplots(2, 2, figsize=(12, 10))\n",
    "axs = axs.ravel()\n",
    "distinct=outlierData['AgeGroup'].unique()\n",
    "for counter in range(len(distinct)):\n",
    "    mosaic(outlierData.loc[outlierData['AgeGroup']==distinct[counter]], ['SEX','default payment next month'],ax=axs[counter])\n",
    "    axs[counter].set_title(\" \"+str(distinct[counter]))\n",
    "plt.show()\n"
   ]
  },
  {
   "cell_type": "markdown",
   "metadata": {},
   "source": [
    "Males are more likely to default than femals at all ages"
   ]
  },
  {
   "cell_type": "code",
   "execution_count": 14,
   "metadata": {},
   "outputs": [
    {
     "ename": "NameError",
     "evalue": "name 'outlierData' is not defined",
     "output_type": "error",
     "traceback": [
      "\u001b[0;31m--------------------------------------------------------------------\u001b[0m",
      "\u001b[0;31mNameError\u001b[0m                          Traceback (most recent call last)",
      "\u001b[0;32m<ipython-input-14-8d9d7156b86d>\u001b[0m in \u001b[0;36m<module>\u001b[0;34m\u001b[0m\n\u001b[1;32m      2\u001b[0m \u001b[0mfigs\u001b[0m\u001b[0;34m,\u001b[0m \u001b[0maxs\u001b[0m \u001b[0;34m=\u001b[0m \u001b[0mplt\u001b[0m\u001b[0;34m.\u001b[0m\u001b[0msubplots\u001b[0m\u001b[0;34m(\u001b[0m\u001b[0;36m2\u001b[0m\u001b[0;34m,\u001b[0m \u001b[0;36m2\u001b[0m\u001b[0;34m,\u001b[0m \u001b[0mfigsize\u001b[0m\u001b[0;34m=\u001b[0m\u001b[0;34m(\u001b[0m\u001b[0;36m12\u001b[0m\u001b[0;34m,\u001b[0m \u001b[0;36m10\u001b[0m\u001b[0;34m)\u001b[0m\u001b[0;34m)\u001b[0m\u001b[0;34m\u001b[0m\u001b[0m\n\u001b[1;32m      3\u001b[0m \u001b[0maxs\u001b[0m \u001b[0;34m=\u001b[0m \u001b[0maxs\u001b[0m\u001b[0;34m.\u001b[0m\u001b[0mravel\u001b[0m\u001b[0;34m(\u001b[0m\u001b[0;34m)\u001b[0m\u001b[0;34m\u001b[0m\u001b[0m\n\u001b[0;32m----> 4\u001b[0;31m \u001b[0mdistinct\u001b[0m\u001b[0;34m=\u001b[0m\u001b[0moutlierData\u001b[0m\u001b[0;34m[\u001b[0m\u001b[0;34m'AgeGroup'\u001b[0m\u001b[0;34m]\u001b[0m\u001b[0;34m.\u001b[0m\u001b[0munique\u001b[0m\u001b[0;34m(\u001b[0m\u001b[0;34m)\u001b[0m\u001b[0;34m\u001b[0m\u001b[0m\n\u001b[0m\u001b[1;32m      5\u001b[0m \u001b[0;32mfor\u001b[0m \u001b[0mcounter\u001b[0m \u001b[0;32min\u001b[0m \u001b[0mrange\u001b[0m\u001b[0;34m(\u001b[0m\u001b[0mlen\u001b[0m\u001b[0;34m(\u001b[0m\u001b[0mdistinct\u001b[0m\u001b[0;34m)\u001b[0m\u001b[0;34m)\u001b[0m\u001b[0;34m:\u001b[0m\u001b[0;34m\u001b[0m\u001b[0m\n\u001b[1;32m      6\u001b[0m     \u001b[0mmosaic\u001b[0m\u001b[0;34m(\u001b[0m\u001b[0moutlierData\u001b[0m\u001b[0;34m.\u001b[0m\u001b[0mloc\u001b[0m\u001b[0;34m[\u001b[0m\u001b[0moutlierData\u001b[0m\u001b[0;34m[\u001b[0m\u001b[0;34m'AgeGroup'\u001b[0m\u001b[0;34m]\u001b[0m\u001b[0;34m==\u001b[0m\u001b[0mdistinct\u001b[0m\u001b[0;34m[\u001b[0m\u001b[0mcounter\u001b[0m\u001b[0;34m]\u001b[0m\u001b[0;34m]\u001b[0m\u001b[0;34m,\u001b[0m \u001b[0;34m[\u001b[0m\u001b[0;34m'MARRIAGE'\u001b[0m\u001b[0;34m,\u001b[0m\u001b[0;34m'default payment next month'\u001b[0m\u001b[0;34m]\u001b[0m\u001b[0;34m,\u001b[0m\u001b[0max\u001b[0m\u001b[0;34m=\u001b[0m\u001b[0maxs\u001b[0m\u001b[0;34m[\u001b[0m\u001b[0mcounter\u001b[0m\u001b[0;34m]\u001b[0m\u001b[0;34m)\u001b[0m\u001b[0;34m\u001b[0m\u001b[0m\n",
      "\u001b[0;31mNameError\u001b[0m: name 'outlierData' is not defined"
     ]
    },
    {
     "data": {
      "image/png": "[encoded data removed]",
      "text/plain": [
       "<matplotlib.figure.Figure at 0x121966be0>"
      ]
     },
     "metadata": {
      "needs_background": "light"
     },
     "output_type": "display_data"
    }
   ],
   "source": [
    "# Marriage and Age\n",
    "figs, axs = plt.subplots(2, 2, figsize=(12, 10))\n",
    "axs = axs.ravel()\n",
    "distinct=outlierData['AgeGroup'].unique()\n",
    "for counter in range(len(distinct)):\n",
    "    mosaic(outlierData.loc[outlierData['AgeGroup']==distinct[counter]], ['MARRIAGE','default payment next month'],ax=axs[counter])\n",
    "    axs[counter].set_title(\"Age \"+str(distinct[counter]))\n",
    "plt.show()"
   ]
  },
  {
   "cell_type": "markdown",
   "metadata": {},
   "source": [
    "Married people would increase the probability to default than singles"
   ]
  },
  {
   "cell_type": "code",
   "execution_count": null,
   "metadata": {
    "scrolled": true
   },
   "outputs": [],
   "source": [
    "# AGE, SEX and EDUCATION combination\n",
    "figs, axs = plt.subplots(4, 2, figsize=(15, 10))\n",
    "axs = axs.ravel()\n",
    "distinct=outlierData['AgeGroup'].unique()\n",
    "distinct1=outlierData['SEX'].unique()\n",
    "c=0\n",
    "for counter in range(len(distinct)):\n",
    "    for counter1 in range(len(distinct1)):\n",
    "        mosaic(outlierData[(outlierData['AgeGroup']==distinct[counter]) & (outlierData['SEX']==distinct1[counter1])], ['EDUCATION','default payment next month'],ax=axs[c])\n",
    "        axs[c].set_title(\"AgeGroup \"+str(distinct[counter])+\" and Sex \"+str(distinct1[counter1]))\n",
    "        c+=1\n",
    "plt.subplots_adjust( hspace = 0.5)\n",
    "plt.show()"
   ]
  },
  {
   "cell_type": "markdown",
   "metadata": {},
   "source": [
    "Generally we could obtain that higher education status would decrease the probability to default"
   ]
  },
  {
   "cell_type": "code",
   "execution_count": null,
   "metadata": {},
   "outputs": [],
   "source": [
    "# Limit of Balance (LIMIT_BAL)\n",
    "figs, axs = plt.subplots(2, 2, figsize=(15, 8))\n",
    "axs = axs.ravel()\n",
    "sns.boxplot(x=outlierData[outlierData['default payment next month']==0]['LIMIT_BAL'],color=\"#9b59b6\",ax=axs[0]).set_title(\"default paymeny =0 \")\n",
    "sns.boxplot(x=outlierData[outlierData['default payment next month']==1]['LIMIT_BAL'],ax=axs[1]).set_title(\"default paymeny =1 \")\n",
    "\n",
    "plt.show()\n",
    "\n",
    "\n",
    "\n"
   ]
  },
  {
   "cell_type": "code",
   "execution_count": null,
   "metadata": {},
   "outputs": [],
   "source": [
    "# Repayment Status (PAY_X)\n",
    "\n",
    "figure=mosaic(outlierData, ['PAY_0','default payment next month'])\n",
    "plt.show()\n"
   ]
  },
  {
   "cell_type": "markdown",
   "metadata": {},
   "source": [
    "Although we have not included all the repayment status but it is obvious that the longer delay could lead to more chances to default"
   ]
  },
  {
   "cell_type": "code",
   "execution_count": null,
   "metadata": {},
   "outputs": [],
   "source": [
    "# Age with Payment_0\n",
    "figs, axs = plt.subplots(2, 2, figsize=(12, 10))\n",
    "axs = axs.ravel()\n",
    "distinct=outlierData['AgeGroup'].unique()\n",
    "for counter in range(len(distinct)):\n",
    "    mosaic(outlierData.loc[outlierData['AgeGroup']==distinct[counter]], ['PAY_0','default payment next month'],ax=axs[counter])\n",
    "    axs[counter].set_title(\"Age \"+str(distinct[counter]))\n",
    "plt.show()"
   ]
  },
  {
   "cell_type": "code",
   "execution_count": null,
   "metadata": {
    "scrolled": true
   },
   "outputs": [],
   "source": [
    "# Amount of bill statement:\n",
    "\n",
    "figs, axs = plt.subplots(3, 2, figsize=(18, 10))\n",
    "axs = axs.ravel()\n",
    "\n",
    "sns.boxplot(x=outlierData[outlierData['default payment next month']==0]['BILL_AMT1'],color=\"#9b59b6\",ax=axs[0]).set_title(\"default payment =0 \")\n",
    "sns.boxplot(x=outlierData[outlierData['default payment next month']==1]['BILL_AMT1'],ax=axs[1]).set_title(\"default payment =1 \")\n",
    "sns.boxplot(x=outlierData[outlierData['default payment next month']==0]['BILL_AMT2'],color=\"#8b59b6\",ax=axs[2])\n",
    "sns.boxplot(x=outlierData[outlierData['default payment next month']==1]['BILL_AMT2'],ax=axs[3])\n",
    "sns.boxplot(x=outlierData[outlierData['default payment next month']==0]['BILL_AMT3'],color=\"#8b59b6\",ax=axs[4])\n",
    "sns.boxplot(x=outlierData[outlierData['default payment next month']==1]['BILL_AMT3'],ax=axs[5])\n",
    "plt.subplots_adjust( hspace = 0.3)\n",
    "\n",
    "\n",
    "figs, axs = plt.subplots(3, 2, figsize=(18, 10))\n",
    "axs = axs.ravel()\n",
    "\n",
    "sns.violinplot(x=outlierData[outlierData['default payment next month']==0]['BILL_AMT1'],color=\"#9b59b6\",ax=axs[0]).set_title(\"default payment =0 \")\n",
    "sns.violinplot(x=outlierData[outlierData['default payment next month']==1]['BILL_AMT1'],ax=axs[1]).set_title(\"default payment =1 \")\n",
    "sns.violinplot(x=outlierData[outlierData['default payment next month']==0]['BILL_AMT2'],color=\"#8b59b6\",ax=axs[2])\n",
    "sns.violinplot(x=outlierData[outlierData['default payment next month']==1]['BILL_AMT2'],ax=axs[3])\n",
    "sns.violinplot(x=outlierData[outlierData['default payment next month']==0]['BILL_AMT3'],color=\"#8b59b6\",ax=axs[4])\n",
    "sns.violinplot(x=outlierData[outlierData['default payment next month']==1]['BILL_AMT3'],ax=axs[5])\n",
    "plt.subplots_adjust( hspace = 0.3)\n",
    "\n",
    "plt.show()"
   ]
  },
  {
   "cell_type": "markdown",
   "metadata": {},
   "source": [
    "Usuallt people with less amount of bill statement would be more likely to default"
   ]
  },
  {
   "cell_type": "code",
   "execution_count": null,
   "metadata": {},
   "outputs": [],
   "source": [
    "# Amount of previous payment\n",
    "\n",
    "figs, axs = plt.subplots(3, 2, figsize=(18, 10))\n",
    "axs = axs.ravel()\n",
    "\n",
    "sns.violinplot(x=outlierData[outlierData['default payment next month']==0]['PAY_AMT1'],color=\"#9b59b6\",ax=axs[0]).set_title(\"default payment =0 \")\n",
    "sns.violinplot(x=outlierData[outlierData['default payment next month']==1]['PAY_AMT1'],ax=axs[1]).set_title(\"default payment =1 \")\n",
    "sns.violinplot(x=outlierData[outlierData['default payment next month']==0]['PAY_AMT2'],color=\"#8b59b6\",ax=axs[2])\n",
    "sns.violinplot(x=outlierData[outlierData['default payment next month']==1]['PAY_AMT2'],ax=axs[3])\n",
    "sns.violinplot(x=outlierData[outlierData['default payment next month']==0]['PAY_AMT3'],color=\"#8b59b6\",ax=axs[4])\n",
    "sns.violinplot(x=outlierData[outlierData['default payment next month']==1]['PAY_AMT3'],ax=axs[5])\n",
    "plt.subplots_adjust( hspace = 0.3)\n",
    "plt.show()"
   ]
  },
  {
   "cell_type": "markdown",
   "metadata": {},
   "source": [
    "Again, the smaller the payment amount, the bigger the chance of default."
   ]
  },
  {
   "cell_type": "markdown",
   "metadata": {},
   "source": [
    "## Summary about the predictors’  influences \n",
    "Generally talking about each of these variables:\n",
    "* LIMIT_BAL Amount of the given credit:\n",
    "    * the higher the amount of given credit, the less likely to default\n",
    "* SEX, EDUCATION, MARRIAGE\n",
    "    * Men are a bit more likely to default\n",
    "    * Higher education usually leads to lower chances to default\n",
    "    * Married persons have more chances to default.\n",
    "* AGE\n",
    "    * People from 25-35 are least likely to default\n",
    "* PAY_ History of past payment\n",
    "    * Delaying of the payment increases the likelihood to default\n",
    "* BILL_AMT Amount of bill statement\n",
    "    * Smaller amount of bill statement leads to higher chance to default\n",
    "* PAY_AMT Amount of previous payment\n",
    "    * The smaller amount of previous payment, the bigger chance to default"
   ]
  },
  {
   "cell_type": "markdown",
   "metadata": {},
   "source": [
    "### Remove the outliers"
   ]
  },
  {
   "cell_type": "code",
   "execution_count": null,
   "metadata": {},
   "outputs": [],
   "source": [
    "isolation=pd.read_csv('CreditCard_train.csv', header =1)\n",
    "rng = np.random.RandomState(24000)\n",
    "clf = IsolationForest(max_samples='auto',\n",
    "                      random_state=rng,)\n",
    "clf.fit(isolation)\n",
    "output_table = pd.DataFrame(clf.predict(isolation))\n",
    "print(output_table[0].value_counts())\n",
    "# ax = sns.countplot(x=output_table[0],data=output_table)\n",
    "# plt.show()"
   ]
  },
  {
   "cell_type": "markdown",
   "metadata": {},
   "source": [
    "The outliers are marked by the -1 values, we can see that the isolation forest algorithm found 2400 of our data point to be outliers, we will therefore remove them from our dataset  "
   ]
  },
  {
   "cell_type": "code",
   "execution_count": null,
   "metadata": {},
   "outputs": [],
   "source": [
    "# remove the outliers\n",
    "result = pd.concat([isolation, output_table], axis=1, sort=False)\n",
    "result=result.rename(columns={ result.columns[25]: 'output' })\n",
    "result = result.drop(result[result.output == -1].index)\n",
    "result=result.drop(columns = ['output'], axis = 1)\n"
   ]
  },
  {
   "cell_type": "code",
   "execution_count": null,
   "metadata": {},
   "outputs": [],
   "source": [
    "# Visualisation of the new set of data without outliers\n",
    "cols2 = [ f for f in result.columns if result.dtypes[ f ] != \"object\" and f!= 'ID']\n",
    "del cols2[-1:]\n",
    "#plotting the distribution plots\n",
    "f = pd.melt(result, id_vars='default payment next month', value_vars= cols2)\n",
    "g = sns.FacetGrid( f, hue='default payment next month', col=\"variable\", col_wrap=5, sharex=False, sharey=False)\n",
    "g = g.map( sns.distplot, \"value\", kde=True).add_legend()"
   ]
  },
  {
   "cell_type": "markdown",
   "metadata": {},
   "source": [
    "## Methodology Overview"
   ]
  },
  {
   "cell_type": "markdown",
   "metadata": {},
   "source": [
    "### Data Preparation"
   ]
  },
  {
   "cell_type": "code",
   "execution_count": null,
   "metadata": {},
   "outputs": [],
   "source": [
    "#Format headers for easier access and readability \n",
    "trainData.rename(columns={'default payment next month': 'default'}, inplace=True)\n",
    "trainData.columns=trainData.columns.str.lower()\n",
    "\n",
    "testData.rename(columns={'default payment next month': 'default'}, inplace=True)\n",
    "testData.columns=testData.columns.str.lower()\n",
    "\n",
    "X_train, y_train = trainData.drop(columns = [trainData.columns[0], 'default'], axis = 1), trainData.drop(trainData.columns[0:24], axis = 1)\n",
    "X_test, y_test = testData.drop(columns = [testData.columns[0], 'default'], axis = 1), testData.drop(testData.columns[0:24], axis = 1)\n",
    "\n",
    "\n",
    "\n",
    "#We now standardize the numerical featrues, \n",
    "#so that they have been rescaled to have a mean of zero and a standard deviation of one\n",
    "\n",
    "numericalColoumns = ['limit_bal', 'age', 'bill_amt1', 'bill_amt2', 'bill_amt3', 'bill_amt4', 'bill_amt5', 'bill_amt6',\n",
    "              'pay_amt1', 'pay_amt2', 'pay_amt3', 'pay_amt4', 'pay_amt5', 'pay_amt6']\n",
    "\n",
    "X_train[numericalColoumns]=X_train[numericalColoumns].apply(lambda x: (x-np.mean(x))/np.std(x))\n",
    "X_test[numericalColoumns]=X_test[numericalColoumns].apply(lambda x: (x-np.mean(x))/np.std(x))\n"
   ]
  },
  {
   "cell_type": "markdown",
   "metadata": {},
   "source": [
    "#### Isolation Forest - Removing Outliers"
   ]
  },
  {
   "cell_type": "code",
   "execution_count": null,
   "metadata": {},
   "outputs": [],
   "source": [
    "# recreating the Data without the outliers\n",
    "result.rename(columns={'default payment next month': 'default'}, inplace=True)\n",
    "result.columns=result.columns.str.lower()\n",
    "iso_X_train, iso_y_train = result.drop(columns = [result.columns[0], 'default'], axis = 1), result.drop(result.columns[0:24], axis = 1)\n",
    "numericalColoumns = ['limit_bal', 'age', 'bill_amt1', 'bill_amt2', 'bill_amt3', 'bill_amt4', 'bill_amt5', 'bill_amt6',\n",
    "              'pay_amt1', 'pay_amt2', 'pay_amt3', 'pay_amt4', 'pay_amt5', 'pay_amt6']\n",
    "\n",
    "iso_X_train[numericalColoumns]=iso_X_train[numericalColoumns].apply(lambda x: (x-np.mean(x))/np.std(x))\n",
    "\n"
   ]
  },
  {
   "cell_type": "markdown",
   "metadata": {},
   "source": [
    "## Dimensionality Reduction"
   ]
  },
  {
   "cell_type": "markdown",
   "metadata": {},
   "source": [
    "### Principle Component Analysis(PCA)"
   ]
  },
  {
   "cell_type": "code",
   "execution_count": null,
   "metadata": {},
   "outputs": [],
   "source": [
    "# Conserve the variance to 95% \n",
    "\n",
    "from sklearn.decomposition import PCA\n",
    "flat_list = [item for sublist in y_train.values for item in sublist]\n",
    "pca = PCA(n_components=2)\n",
    "projected = pca.fit_transform(X_train)\n",
    "cumsum = np.cumsum(pca.explained_variance_ratio_)\n",
    "print(projected)\n",
    "print(\"Training data shape :\", X_train.shape)\n",
    "print(\"Projected data shape :\", projected.shape)\n",
    "print(\"Explained variance :\", np.sum(pca.explained_variance_ratio_))\n",
    "#plt.plot(cumsum)\n",
    "\n",
    "sns.scatterplot(projected[:, 0], projected[:, 1], hue=flat_list)\n",
    "#sns.scatterplot(projected)#, hue = y_train)\n",
    "#d = np.argmax(cumsum >= 0.95) + 1\n",
    "#print(d)\n",
    "plt.show()"
   ]
  },
  {
   "cell_type": "code",
   "execution_count": null,
   "metadata": {},
   "outputs": [],
   "source": [
    "# 95% of the variance is retained\n",
    "pca = PCA(n_components=0.95)\n",
    "pca.fit(X_train)\n",
    "print(pca.explained_variance_ratio_)\n",
    "print (pca.explained_variance_)\n",
    "print (pca.n_components_)\n",
    "PCA_X_train=pca.fit_transform(X_train)"
   ]
  },
  {
   "cell_type": "markdown",
   "metadata": {},
   "source": [
    "Here, by selecting the minimum number of principal components such that 95% of the variance is retained, we have 15 features left after dimentionality reduction and we would test the effect of this dataset later with our normal logistic regression"
   ]
  },
  {
   "cell_type": "markdown",
   "metadata": {},
   "source": [
    "### Locally Linear Embedding (LLE)"
   ]
  },
  {
   "cell_type": "markdown",
   "metadata": {},
   "source": [
    "Use LLE to find out the lowest optimal number of dimensions"
   ]
  },
  {
   "cell_type": "code",
   "execution_count": null,
   "metadata": {},
   "outputs": [],
   "source": [
    "#Reducing number of features in x_train to 2\n",
    "lle = LocallyLinearEmbedding(n_components=2, n_neighbors=10)\n",
    "X_reduced = lle.fit_transform(X_train)"
   ]
  },
  {
   "cell_type": "markdown",
   "metadata": {},
   "source": [
    "## Predictive Models"
   ]
  },
  {
   "cell_type": "markdown",
   "metadata": {},
   "source": [
    "We start off with logistic regression as it a well-behaved classification algorithm. It is very useful when it can be trained with features that are roughly linear and the problem can belinearly separable. As seen in the visualisations above, certain features had strong linear correlations."
   ]
  },
  {
   "cell_type": "markdown",
   "metadata": {},
   "source": [
    "### Normal Logistic Regression "
   ]
  },
  {
   "cell_type": "code",
   "execution_count": null,
   "metadata": {},
   "outputs": [],
   "source": [
    "# Normal Logistic Regression classifer created\n",
    "nlr_classifer=LogisticRegression()\n",
    "nlr_classifer.fit(X_train,y_train.values.ravel())\n",
    "#Prediction based on training data\n",
    "Y_pred_logr=nlr_classifer.predict(X_train)\n",
    "#Prediction based on testing data\n",
    "Y_predict_logr=nlr_classifer.predict(X_test)\n",
    "#Predict confidence scores for samples\n",
    "prob_nlr = nlr_classifer.decision_function(X_test)\n",
    "\n",
    "print(\"Score of Logistic Regression Model \",\"{0:.4f}\".format(nlr_classifer.score(X_train,y_train)))\n"
   ]
  },
  {
   "cell_type": "markdown",
   "metadata": {},
   "source": [
    "### Normal Logistic Regression without outliers"
   ]
  },
  {
   "cell_type": "code",
   "execution_count": null,
   "metadata": {},
   "outputs": [],
   "source": [
    "# Normal Logistic Regression based on Isolation Forest Data\n",
    "\n",
    "iso_nlr_classifer=LogisticRegression()\n",
    "iso_nlr_classifer.fit(iso_X_train,iso_y_train.values.ravel())\n",
    "Y_predict_iso_nlr=iso_nlr_classifer.predict(X_test)\n",
    "\n",
    "#Confusion matrix created on test data\n",
    "cm = confusion_matrix( y_test, Y_predict_iso_nlr )\n",
    "ISO_NLRtestScore = ((cm[0,0] + cm[1,1] )/len(X_test))\n",
    "print(\"Accuracy on Test Set for NBClassifier = %.4f\" % (ISO_NLRtestScore))\n",
    "\n",
    "\n",
    "print(\"Score of Logistic Regression Model \",\"{0:.4f}\".format(iso_nlr_classifer.score(iso_X_train,iso_y_train)))"
   ]
  },
  {
   "cell_type": "markdown",
   "metadata": {},
   "source": [
    "### Normal Logistic Regression with PCA"
   ]
  },
  {
   "cell_type": "code",
   "execution_count": null,
   "metadata": {},
   "outputs": [],
   "source": [
    "# Normal Logistic Regression with 2 features\n",
    "nlr_pca_classifer=LogisticRegression()\n",
    "nlr_pca_classifer.fit(PCA_X_train,y_train.values.ravel())\n",
    "\n",
    "\n",
    "print(\"Score of Logistic Regression Model \",\"{0:.4f}\".format(nlr_pca_classifer.score(PCA_X_train,y_train)))\n"
   ]
  },
  {
   "cell_type": "markdown",
   "metadata": {},
   "source": [
    "### Normal Logistic Regression with LLE"
   ]
  },
  {
   "cell_type": "code",
   "execution_count": null,
   "metadata": {},
   "outputs": [],
   "source": [
    "nlr_lle_classifer=LogisticRegression()\n",
    "nlr_lle_classifer.fit(X_reduced,y_train.values.ravel())\n",
    "\n",
    "print(\"Score of LLE Logistic Regression Model with LLE: \",\"{0:.4f}\".format(nlr_lle_classifer.score(X_reduced,y_train)))"
   ]
  },
  {
   "cell_type": "markdown",
   "metadata": {},
   "source": [
    "Using the training data produced from LLE and PCA, there is a 3% decrease in accuracy. Therefore, not that useful in training"
   ]
  },
  {
   "cell_type": "markdown",
   "metadata": {},
   "source": [
    "### Logistic Regression with Grid Search (Hyperparameter Tuning)\n",
    "Apply grid search to search for  best the hyper-parameter space for the optimal cross validation score"
   ]
  },
  {
   "cell_type": "code",
   "execution_count": null,
   "metadata": {},
   "outputs": [],
   "source": [
    "log_reg_grid=[\n",
    "    {'C':[0.001, 0.01, 0.1, 1, 1.01,1.1],\n",
    "     'max_iter':[100,1000],'warm_start':['True','False']},\n",
    "]\n",
    "norm_log_reg=LogisticRegression()\n",
    "#Grid Search optimization applied based on roc score\n",
    "grid_search=GridSearchCV(norm_log_reg,log_reg_grid,cv=5,scoring='roc_auc')\n",
    "grid_search.fit(X_train,y_train.values.ravel())"
   ]
  },
  {
   "cell_type": "code",
   "execution_count": null,
   "metadata": {},
   "outputs": [],
   "source": [
    "print(\"Best Parameters:\",grid_search.best_params_)"
   ]
  },
  {
   "cell_type": "markdown",
   "metadata": {},
   "source": [
    "Store hyperparameters for tuning"
   ]
  },
  {
   "cell_type": "code",
   "execution_count": null,
   "metadata": {},
   "outputs": [],
   "source": [
    "best_c_param=grid_search.best_params_.get('C')\n",
    "best_max_iter_param=grid_search.best_params_.get('max_iter')\n",
    "best_warm_start_param=grid_search.best_params_.get('warm_start')"
   ]
  },
  {
   "cell_type": "code",
   "execution_count": null,
   "metadata": {},
   "outputs": [],
   "source": [
    "#New logistic regression classifier created based on tuned hyperparameters \n",
    "nlr_tuned_classifer=LogisticRegression(C=best_c_param,max_iter=best_max_iter_param,\n",
    "                                  warm_start=best_warm_start_param)\n",
    "nlr_tuned_classifer.fit(X_train,y_train.values.ravel())\n",
    "Y_pred_nlr_tuned=nlr_tuned_classifer.predict(X_train)\n",
    "Y_predict_nlr_tuned=nlr_tuned_classifer.predict(X_test)\n",
    "prob_nlrTuned = nlr_tuned_classifer.decision_function(X_test)\n",
    "\n",
    "print(\"Score of tuned Logistic Regression Model \",\"{0:.4f}\".format(nlr_tuned_classifer.score(X_test,y_test)))"
   ]
  },
  {
   "cell_type": "markdown",
   "metadata": {},
   "source": [
    "We obtain the best score of logistic regression after applying grid search optimization"
   ]
  },
  {
   "cell_type": "markdown",
   "metadata": {},
   "source": [
    "### Naive Bayes"
   ]
  },
  {
   "cell_type": "code",
   "execution_count": null,
   "metadata": {},
   "outputs": [],
   "source": [
    "nb_classifer = GaussianNB()\n",
    "nb_classifer.fit( X_train, y_train.values.ravel() )\n",
    "Y_predict_nb = nb_classifer.predict( X_test )\n",
    "Y_probaNB = roc_auc_score(y_test, nb_classifer.predict_proba(X_test)[:,1])\n",
    "\n",
    "print(\"Score of Naive Bayes Model \",\"{0:.4f}\".format(nb_classifer.score(X_train,y_train)))\n",
    "\n",
    "cm = confusion_matrix( y_test, Y_predict_nb )\n",
    "NBtestScore = ((cm[0,0] + cm[1,1] )/len(X_test))\n",
    "print(\"Accuracy on Test Set for NBClassifier = %.4f\" % (NBtestScore))\n",
    "rocScoresNB = cross_val_score( nb_classifer, X_train, y_train.values.ravel(), cv=10, scoring='roc_auc')\n"
   ]
  },
  {
   "cell_type": "markdown",
   "metadata": {},
   "source": [
    "### K-Neighbours"
   ]
  },
  {
   "cell_type": "code",
   "execution_count": null,
   "metadata": {},
   "outputs": [],
   "source": [
    "kn_classifer = KNeighborsClassifier(n_neighbors=10)\n",
    "kn_classifer.fit( X_train, y_train.values.ravel() )\n",
    "Y_predict_kn = kn_classifer.predict( X_test )\n",
    "Y_probaKN = roc_auc_score(y_test, kn_classifer.predict_proba(X_test)[:,1])\n",
    "\n",
    "print(\"Score of K-neightbours Model \",\"{0:.4f}\".format(kn_classifer.score(X_train,y_train)))\n",
    "\n",
    "cm = confusion_matrix( y_test, Y_predict_kn )\n",
    "KNtestScore = ((cm[0,0] + cm[1,1] )/len(X_test))\n",
    "print(\"Accuracy on Test Set for KNClassifier = %.4f\" % (KNtestScore))\n",
    "rocScoresKN = cross_val_score( kn_classifer, X_train, y_train.values.ravel(), cv=10, scoring='roc_auc')\n"
   ]
  },
  {
   "cell_type": "markdown",
   "metadata": {},
   "source": [
    "The number of neightbors affects the accuracy on the test. When n = 5, we get an accuracy of 0.78, but when n = 10, we get 0.83. We tested this with much larger numbers, but the accuracy seems to converge to 0.83"
   ]
  },
  {
   "cell_type": "markdown",
   "metadata": {},
   "source": [
    "### Random Forest\n",
    "\n",
    "Tree Ensembles have huge advantages over LR. They do not expect linear features and handle categorical features very well. This is extremely useful in our case. Also,these algorithms perform very well in high dimensional spaces and large number of training examples.\n"
   ]
  },
  {
   "cell_type": "code",
   "execution_count": null,
   "metadata": {},
   "outputs": [],
   "source": [
    "rf_classifier = RandomForestClassifier(n_estimators=10)\n",
    "rf_classifier.fit( X_train, y_train.values.ravel() )\n",
    "Y_predict_rf = rf_classifier.predict( X_test )\n",
    "\n",
    "print(\"Score of Random Forest Model \",\"{0:.4f}\".format(rf_classifier.score(X_train,y_train)))\n",
    "\n",
    "cm = confusion_matrix( y_test, Y_predict_rf )\n",
    "print(\"Accuracy on Test Set for RandomForest = %.2f\" % ((cm[0,0] + cm[1,1] )/len(X_test)))\n",
    "accScoresRF = cross_val_score( rf_classifier, X_train, y_train.values.ravel(), cv=10)\n",
    "rocScoresRF = cross_val_score( rf_classifier, X_train, y_train.values.ravel(), cv=10, scoring='roc_auc')\n",
    "\n",
    "# print(\"Mean RandomForest CrossVal Accuracy on Train Set %.2f, with std=%.2f\" % (scoresRF.mean(), scoresRF.std() ))\n",
    "# plot_confusion_matrix(Y_predict_rf)\n"
   ]
  },
  {
   "cell_type": "markdown",
   "metadata": {},
   "source": [
    "### Random Forest with GINI criterion and boosted parameters"
   ]
  },
  {
   "cell_type": "code",
   "execution_count": null,
   "metadata": {},
   "outputs": [],
   "source": [
    "RFC_METRIC = 'gini'  \n",
    "\n",
    "rf_classifierGINI = RandomForestClassifier(n_jobs=4, \n",
    "                             random_state=2018,\n",
    "                             criterion=RFC_METRIC,\n",
    "                             n_estimators=100,\n",
    "                             verbose=False)\n",
    "rf_classifierGINI.fit( X_train, y_train.values.ravel() )\n",
    "Y_predict_rfG = rf_classifierGINI.predict( X_test )\n",
    "Y_probaRFG = roc_auc_score(y_test, rf_classifierGINI.predict_proba(X_test)[:,1])\n",
    "\n",
    "print(\"Score of GINI Random Forest Model \",\"{0:.4f}\".format(rf_classifierGINI.score(X_train,y_train)))\n",
    "\n",
    "cm = confusion_matrix( y_test, Y_predict_rfG )\n",
    "RFGtestScore = ((cm[0,0] + cm[1,1] )/len(X_test))\n",
    "print(\"Accuracy on Test Set for RFGClassifier = %.4f\" % (RFGtestScore))\n",
    "rocScoresRFG = cross_val_score( rf_classifierGINI, X_train, y_train.values.ravel(), cv=10, scoring='roc_auc')"
   ]
  },
  {
   "cell_type": "markdown",
   "metadata": {},
   "source": [
    "We used a validation criterion GINI. where GINI = 2 * (Receiver Operating Characteristic) - 1. This is more appropriate as data is unbalanced"
   ]
  },
  {
   "cell_type": "markdown",
   "metadata": {},
   "source": [
    "### Gradient Tree Boosting"
   ]
  },
  {
   "cell_type": "code",
   "execution_count": null,
   "metadata": {},
   "outputs": [],
   "source": [
    "gtb_classifier = GradientBoostingClassifier(n_estimators=100, learning_rate=1.0, max_depth=1, random_state=0)\n",
    "gtb_classifier.fit(X_train, y_train.values.ravel())\n",
    "Y_predict_gtb = gtb_classifier.predict( X_test )\n",
    "Y_probaGTB = roc_auc_score(y_test, gtb_classifier.predict_proba(X_test)[:,1])\n",
    "\n",
    "print(\"Score of GTB \",\"{0:.4f}\".format(gtb_classifier.score(X_train,y_train)))\n",
    "\n",
    "cm = confusion_matrix( y_test, Y_predict_gtb )\n",
    "GTBtestScore = ((cm[0,0] + cm[1,1] )/len(X_test))\n",
    "print(\"Accuracy on Test Set for GTB Classifier = %.4f\" % (GTBtestScore))\n",
    "rocScoresGTB = cross_val_score( gtb_classifier, X_train, y_train.values.ravel(), cv=10, scoring='roc_auc')\n",
    "\n"
   ]
  },
  {
   "cell_type": "markdown",
   "metadata": {},
   "source": [
    "### Kernel SVM"
   ]
  },
  {
   "cell_type": "code",
   "execution_count": null,
   "metadata": {},
   "outputs": [],
   "source": [
    "kSVM_classifier = SVC(kernel=\"rbf\", probability=True)\n",
    "kSVM_classifier.fit( X_train, y_train.values.ravel() )\n",
    "Y_predict_kSVM = kSVM_classifier.predict( X_test )\n",
    "Y_probakSVM = roc_auc_score(y_test, kSVM_classifier.predict_proba(X_test)[:,1])\n",
    "\n",
    "print(\"Score of Kernel SVM \",\"{0:.4f}\".format(kSVM_classifier.score(X_train,y_train)))\n",
    "\n",
    "cm = confusion_matrix( y_test, Y_predict_kSVM )\n",
    "kSVMtestScore = ((cm[0,0] + cm[1,1] )/len(X_test))\n",
    "print(\"Accuracy on Test Set for k SVM Classifier = %.4f\" % (kSVMtestScore))\n",
    "rocScoreskSVM = cross_val_score( kSVM_classifier, X_train, y_train.values.ravel(), cv=10, scoring='roc_auc')"
   ]
  },
  {
   "cell_type": "markdown",
   "metadata": {},
   "source": [
    "## Results"
   ]
  },
  {
   "cell_type": "code",
   "execution_count": null,
   "metadata": {},
   "outputs": [],
   "source": [
    "# Function to generate confusion matrix\n",
    "def plot_confusion_matrix(pred):\n",
    "    conmat = np.array(confusion_matrix(y_test, pred, labels=[1,0]))\n",
    "    confusion = pd.DataFrame(conmat, index=['default', 'not default'], \n",
    "                             columns=['predicted default', 'predicted not default'])\n",
    "    print(confusion)"
   ]
  },
  {
   "cell_type": "code",
   "execution_count": null,
   "metadata": {},
   "outputs": [],
   "source": [
    "#Function to plot roc curve\n",
    "def plot_roc(prob):\n",
    "    y_score = prob\n",
    "    fpr = dict()\n",
    "    tpr = dict()\n",
    "    roc_auc=dict()\n",
    "    fpr[1], tpr[1], _ = roc_curve(y_test, y_score)\n",
    "    roc_auc[1] = auc(fpr[1], tpr[1])\n",
    "\n",
    "    plt.figure(figsize=[9,7])\n",
    "    plt.plot(fpr[1], tpr[1], label='Roc curve (area=%0.2f)' %roc_auc[1], linewidth=4)\n",
    "    plt.plot([1,0], [1,0], 'k--', linewidth=4)\n",
    "    plt.xlim([0.0, 1.0])\n",
    "    plt.ylim([0.0, 1.0])\n",
    "    plt.xlabel('false positive rate', fontsize=18)\n",
    "    plt.ylabel('true positive rate', fontsize=18)\n",
    "    plt.title('ROC curve for credit default', fontsize=18)\n",
    "    plt.legend(loc='lower right')\n",
    "    plt.show()"
   ]
  },
  {
   "cell_type": "markdown",
   "metadata": {},
   "source": [
    "### Logistic Regression with Grid Search (Hyperparameter Tuning)"
   ]
  },
  {
   "cell_type": "code",
   "execution_count": null,
   "metadata": {},
   "outputs": [],
   "source": [
    "print(classification_report(y_test, Y_predict_nlr_tuned, target_names=['not default', 'default']))"
   ]
  },
  {
   "cell_type": "code",
   "execution_count": null,
   "metadata": {},
   "outputs": [],
   "source": [
    "plot_confusion_matrix(Y_predict_nlr_tuned)"
   ]
  },
  {
   "cell_type": "code",
   "execution_count": null,
   "metadata": {},
   "outputs": [],
   "source": [
    "plot_roc(prob_nlrTuned)"
   ]
  },
  {
   "cell_type": "code",
   "execution_count": null,
   "metadata": {},
   "outputs": [],
   "source": [
    "print(\"Tuned Logistic Regression Model on test data: Accuracy - \",\"{0:.4f} Roc - 0.73\".format(nlr_tuned_classifer.score(X_test,y_test)))"
   ]
  },
  {
   "cell_type": "markdown",
   "metadata": {},
   "source": [
    "### Naive Bayes"
   ]
  },
  {
   "cell_type": "code",
   "execution_count": null,
   "metadata": {},
   "outputs": [],
   "source": [
    "print(classification_report(y_test, Y_predict_nb, target_names=['not default', 'default']))"
   ]
  },
  {
   "cell_type": "code",
   "execution_count": null,
   "metadata": {},
   "outputs": [],
   "source": [
    "plot_confusion_matrix(Y_predict_nb)"
   ]
  },
  {
   "cell_type": "code",
   "execution_count": null,
   "metadata": {},
   "outputs": [],
   "source": [
    "print(\"Mean RocScore NaiveBayes CrossVal Accuracy %.4f, with std=%.4f\" % (rocScoresNB.mean(), rocScoresNB.std() ))"
   ]
  },
  {
   "cell_type": "code",
   "execution_count": null,
   "metadata": {},
   "outputs": [],
   "source": [
    "print(\"Accuracy on Test Set for NBClassifier = %.4f\" % (NBtestScore))"
   ]
  },
  {
   "cell_type": "code",
   "execution_count": null,
   "metadata": {},
   "outputs": [],
   "source": [
    "print(\"RocScore on Test Set for NBClassifier = %.4f\" % (Y_probaNB))"
   ]
  },
  {
   "cell_type": "markdown",
   "metadata": {},
   "source": [
    "### K-Neighbours"
   ]
  },
  {
   "cell_type": "code",
   "execution_count": null,
   "metadata": {},
   "outputs": [],
   "source": [
    "print(classification_report(y_test, Y_predict_kn, target_names=['not default', 'default']))"
   ]
  },
  {
   "cell_type": "code",
   "execution_count": null,
   "metadata": {},
   "outputs": [],
   "source": [
    "plot_confusion_matrix(Y_predict_kn)"
   ]
  },
  {
   "cell_type": "code",
   "execution_count": null,
   "metadata": {},
   "outputs": [],
   "source": [
    "print(\"Mean RocScore K-Neighbours CrossVal Accuracy %.4f, with std=%.4f\" % (rocScoresKN.mean(), rocScoresKN.std() ))"
   ]
  },
  {
   "cell_type": "code",
   "execution_count": null,
   "metadata": {},
   "outputs": [],
   "source": [
    "print(\"Accuracy on Test Set for K-Neighbours = %.4f\" % (KNtestScore))"
   ]
  },
  {
   "cell_type": "code",
   "execution_count": null,
   "metadata": {},
   "outputs": [],
   "source": [
    "print(\"RocScore on Test Set for K-Neighbours = %.4f\" % (Y_probaKN))"
   ]
  },
  {
   "cell_type": "markdown",
   "metadata": {},
   "source": [
    "### Random Forest with GINI criterion and boosted parameters"
   ]
  },
  {
   "cell_type": "code",
   "execution_count": null,
   "metadata": {},
   "outputs": [],
   "source": [
    "print(classification_report(y_test, Y_predict_rfG, target_names=['not default', 'default']))"
   ]
  },
  {
   "cell_type": "code",
   "execution_count": null,
   "metadata": {},
   "outputs": [],
   "source": [
    "plot_confusion_matrix(Y_predict_rfG)"
   ]
  },
  {
   "cell_type": "code",
   "execution_count": null,
   "metadata": {},
   "outputs": [],
   "source": [
    "print(\"Mean RocScore Random forest Gini CrossVal Accuracy %.4f, with std=%.4f\" % (rocScoresRFG.mean(), rocScoresRFG.std() ))"
   ]
  },
  {
   "cell_type": "code",
   "execution_count": null,
   "metadata": {},
   "outputs": [],
   "source": [
    "print(\"Accuracy on Test Set for Random forest Gini = %.4f\" % (RFGtestScore))"
   ]
  },
  {
   "cell_type": "code",
   "execution_count": null,
   "metadata": {},
   "outputs": [],
   "source": [
    "print(\"RocScore on Test Set for Random forest Gini = %.4f\" % (Y_probaRFG))"
   ]
  },
  {
   "cell_type": "markdown",
   "metadata": {},
   "source": [
    "### Gradient Tree Boosting"
   ]
  },
  {
   "cell_type": "code",
   "execution_count": null,
   "metadata": {},
   "outputs": [],
   "source": [
    "print(classification_report(y_test, Y_predict_gtb, target_names=['not default', 'default']))"
   ]
  },
  {
   "cell_type": "code",
   "execution_count": null,
   "metadata": {},
   "outputs": [],
   "source": [
    "plot_confusion_matrix(Y_predict_gtb)"
   ]
  },
  {
   "cell_type": "code",
   "execution_count": null,
   "metadata": {},
   "outputs": [],
   "source": [
    "print(\"Mean RocScore GTB CrossVal Accuracy %.4f, with std=%.4f\" % (rocScoresGTB.mean(), rocScoresGTB.std() ))"
   ]
  },
  {
   "cell_type": "code",
   "execution_count": null,
   "metadata": {},
   "outputs": [],
   "source": [
    "print(\"Accuracy on Test Set for GTB = %.4f\" % (GTBtestScore))"
   ]
  },
  {
   "cell_type": "code",
   "execution_count": null,
   "metadata": {},
   "outputs": [],
   "source": [
    "print(\"RocScore on Test Set for GTB = %.4f\" % (Y_probaGTB))"
   ]
  },
  {
   "cell_type": "markdown",
   "metadata": {},
   "source": [
    "### Kernel SVM"
   ]
  },
  {
   "cell_type": "code",
   "execution_count": null,
   "metadata": {},
   "outputs": [],
   "source": [
    "print(classification_report(y_test, Y_predict_kSVM, target_names=['not default', 'default']))"
   ]
  },
  {
   "cell_type": "code",
   "execution_count": null,
   "metadata": {},
   "outputs": [],
   "source": [
    "plot_confusion_matrix(Y_predict_kSVM)"
   ]
  },
  {
   "cell_type": "code",
   "execution_count": null,
   "metadata": {},
   "outputs": [],
   "source": [
    "print(\"Mean RocScore kernel SVM CrossVal Accuracy %.4f, with std=%.4f\" % (rocScoreskSVM.mean(), rocScoreskSVM.std() ))"
   ]
  },
  {
   "cell_type": "code",
   "execution_count": null,
   "metadata": {},
   "outputs": [],
   "source": [
    "print(\"Accuracy on Test Set for kernel SVM = %.4f\" % (kSVMtestScore))"
   ]
  },
  {
   "cell_type": "code",
   "execution_count": null,
   "metadata": {},
   "outputs": [],
   "source": [
    "print(\"RocScore on Test Set for kernel SVM = %.4f\" % (Y_probakSVM))"
   ]
  },
  {
   "cell_type": "markdown",
   "metadata": {},
   "source": [
    "## Conclusion"
   ]
  },
  {
   "cell_type": "markdown",
   "metadata": {},
   "source": [
    "#### Receiver Operating Characteristic (ROC) score Rankings\n",
    "\n",
    "1. Random Forest with Gini criterion (0.7773)\n",
    "2. Gradient Tree Boosting (0.7703)\n",
    "3. Naive Bayes (0.7555)\n",
    "4. K-Neighbours (0.7403)\n",
    "5. Logstic Regression (0.7300)\n",
    "5. Kernel SVM (0.7216)\n",
    " \n",
    "We decided to rank the predictive models in terms of ROC score, instead of accuracy, as it better represents the effectiveness of the algorithms. Since, the data is unbalanced (only 22% default), we care more about the accuracy in predicting true positives. Random Forest managed to predict to have the highest ratio of true positive to false negative. End-users such as banks would prefer this approach, as it accurately identifies people with defaults. However, approaches such as the Naive Bayes identified more defaults, but also made more mistakes. This is also useful; if the bank's objective was to identify as many customer's with defaults, regardless of mistakes. \n",
    "\n",
    "However, when looking at the approach with the most accuracy score, Kernel SVM took the lead with a score of 0.831. This is probably due to the fact that it trains well with complex and non-linear feature relations. However, it is very inefficient to train and consumes a lot of time. Logistic regression had one of the lowest scores due to it heavily depending on linear relations. We also coupled the algorithm with PCA and LLE, which actually made the score worse. Dimensionality reduction had no significant effect on the data, as the number of features is not too large. This showed the significance of several features and how they played a role in providing accurate predictions. Gridsearch was also used to optimize LR, however it had very little effect. On the other hand, when visualizing the data, we came across a large quantity of outliers. We attempted to remove these outliers through the process of Isolation Forest. This increased the accuracy score of the normal linear regression by 6%, indicating that LR is signficnatly affected by outliers. However, same tests conducted on other approaches such as Random Forest, did not yield in the same results.\n",
    "\n",
    "We managed to dramatically increase and improve all metrics in each approach, by standardizing the data. Logistic regression accuracy scores rose by 5%. Naive Bayes improved from a test accuracy score of 30% to above 70%. We also managed to improve Random Forest scores, by proving more specific parameters such as the GINI criterion. This was more appropriate, as it validated the model with the ROC score. Cross-validation also played an important role in increasing the scores. \n",
    "\n",
    "We would like to build and train more complex models such as Neural networks in the future. We would want to see if they would perform better or worse than the current models. However, we learnt that ensemble methods such Random Forest perform well in datasets such as this, because they work well out of the box. They don't expect linear features, handle large dimension spaces and deal very well with categorical data."
   ]
  },
  {
   "cell_type": "markdown",
   "metadata": {},
   "source": [
    "## References"
   ]
  },
  {
   "cell_type": "markdown",
   "metadata": {},
   "source": [
    "1. Principal Component Analysis, Wikipedia Page, https://en.wikipedia.org/wiki/Principal_component_analysis\n",
    "2. RandomForrestClassifier, http://scikit-learn.org/stable/modules/generated/sklearn.ensemble.RandomForestClassifier.html\n",
    "3. ROC-AUC characteristic, https://en.wikipedia.org/wiki/Receiver_operating_characteristic#Area_under_the_curve\n",
    "4. LogisticRegression, https://scikit-learn.org/stable/modules/generated/sklearn.linear_model.LogisticRegression.html\n",
    "5. SVMs, https://scikit-learn.org/stable/modules/svm.html\n",
    "6. Ensembles, https://scikit-learn.org/stable/modules/ensemble.html\n",
    "7. Standarsize Data, https://stats.idre.ucla.edu/stata/faq/how-do-i-standardize-variables-in-stata/\n",
    "8. Naive Bayes, https://scikit-learn.org/stable/modules/naive_bayes.html\n",
    "9. Predicting with LR, https://medium.com/@guaisang/credit-default-prediction-with-logistic-regression-b5bd89f2799f\n",
    "10. Isolation Forest https://towardsdatascience.com/outlier-detection-with-isolation-forest-3d190448d45e\n",
    "11. Data Exploration https://rstudio-pubs-static.s3.amazonaws.com/281390_8a4ea1f1d23043479814ec4a38dbbfd9.html#limit-of-balance-limit_bal-1"
   ]
  },
  {
   "cell_type": "code",
   "execution_count": null,
   "metadata": {},
   "outputs": [],
   "source": []
  }
 ],
 "metadata": {
  "kernelspec": {
   "display_name": "Python 3",
   "language": "python",
   "name": "python3"
  },
  "language_info": {
   "codemirror_mode": {
    "name": "ipython",
    "version": 3
   },
   "file_extension": ".py",
   "mimetype": "text/x-python",
   "name": "python",
   "nbconvert_exporter": "python",
   "pygments_lexer": "ipython3",
   "version": "3.6.3"
  }
 },
 "nbformat": 4,
 "nbformat_minor": 2
}
